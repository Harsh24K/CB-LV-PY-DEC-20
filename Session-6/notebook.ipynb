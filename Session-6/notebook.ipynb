{
 "metadata": {
  "language_info": {
   "codemirror_mode": {
    "name": "ipython",
    "version": 3
   },
   "file_extension": ".py",
   "mimetype": "text/x-python",
   "name": "python",
   "nbconvert_exporter": "python",
   "pygments_lexer": "ipython3",
   "version": "3.6.6-final"
  },
  "orig_nbformat": 2,
  "kernelspec": {
   "name": "python3",
   "display_name": "Python 3",
   "language": "python"
  }
 },
 "nbformat": 4,
 "nbformat_minor": 2,
 "cells": [
  {
   "source": [
    "### Class/OOPs"
   ],
   "cell_type": "markdown",
   "metadata": {}
  },
  {
   "cell_type": "code",
   "execution_count": 96,
   "metadata": {},
   "outputs": [],
   "source": [
    "class MyClass:\n",
    "    # def __init__():\n",
    "    #     pass\n",
    "    def __init__(self, arg2):\n",
    "        # self.name = name\n",
    "        name = arg2\n",
    "        # print(self)"
   ]
  },
  {
   "cell_type": "code",
   "execution_count": 97,
   "metadata": {},
   "outputs": [],
   "source": [
    "obj = MyClass(\"Manu\")"
   ]
  },
  {
   "cell_type": "code",
   "execution_count": null,
   "metadata": {},
   "outputs": [],
   "source": [
    "obj.name = \"manu\""
   ]
  },
  {
   "cell_type": "code",
   "execution_count": 65,
   "metadata": {},
   "outputs": [
    {
     "output_type": "error",
     "ename": "NameError",
     "evalue": "name 'name' is not defined",
     "traceback": [
      "\u001b[1;31m---------------------------------------------------------------------------\u001b[0m",
      "\u001b[1;31mNameError\u001b[0m                                 Traceback (most recent call last)",
      "\u001b[1;32m<ipython-input-65-9bc0cb2ed6de>\u001b[0m in \u001b[0;36m<module>\u001b[1;34m\u001b[0m\n\u001b[1;32m----> 1\u001b[1;33m \u001b[0mname\u001b[0m\u001b[1;33m\u001b[0m\u001b[0m\n\u001b[0m",
      "\u001b[1;31mNameError\u001b[0m: name 'name' is not defined"
     ]
    }
   ],
   "source": [
    "name"
   ]
  },
  {
   "cell_type": "code",
   "execution_count": 64,
   "metadata": {},
   "outputs": [
    {
     "output_type": "error",
     "ename": "AttributeError",
     "evalue": "'MyClass' object has no attribute 'name'",
     "traceback": [
      "\u001b[1;31m---------------------------------------------------------------------------\u001b[0m",
      "\u001b[1;31mAttributeError\u001b[0m                            Traceback (most recent call last)",
      "\u001b[1;32m<ipython-input-64-8d60453bb8a2>\u001b[0m in \u001b[0;36m<module>\u001b[1;34m\u001b[0m\n\u001b[1;32m----> 1\u001b[1;33m \u001b[0mobj\u001b[0m\u001b[1;33m.\u001b[0m\u001b[0mname\u001b[0m\u001b[1;33m\u001b[0m\u001b[0m\n\u001b[0m",
      "\u001b[1;31mAttributeError\u001b[0m: 'MyClass' object has no attribute 'name'"
     ]
    }
   ],
   "source": [
    "obj.name"
   ]
  },
  {
   "cell_type": "code",
   "execution_count": 61,
   "metadata": {},
   "outputs": [
    {
     "output_type": "stream",
     "name": "stdout",
     "text": [
      "<__main__.MyClass object at 0x000001EADB7F17B8>\n"
     ]
    }
   ],
   "source": [
    "print(obj)"
   ]
  },
  {
   "cell_type": "code",
   "execution_count": 50,
   "metadata": {},
   "outputs": [
    {
     "output_type": "execute_result",
     "data": {
      "text/plain": [
       "'Gopi'"
      ]
     },
     "metadata": {},
     "execution_count": 50
    }
   ],
   "source": [
    "obj.name"
   ]
  },
  {
   "cell_type": "code",
   "execution_count": 42,
   "metadata": {},
   "outputs": [
    {
     "output_type": "stream",
     "name": "stdout",
     "text": [
      "manu\nmanu\n"
     ]
    }
   ],
   "source": [
    "obj1 = MyClass()\n",
    "print(obj1.name)\n",
    "obj2 = MyClass()\n",
    "print(obj2.name)"
   ]
  },
  {
   "cell_type": "code",
   "execution_count": 40,
   "metadata": {},
   "outputs": [
    {
     "output_type": "execute_result",
     "data": {
      "text/plain": [
       "'manu'"
      ]
     },
     "metadata": {},
     "execution_count": 40
    }
   ],
   "source": [
    "obj.name"
   ]
  },
  {
   "cell_type": "code",
   "execution_count": 36,
   "metadata": {},
   "outputs": [],
   "source": [
    "obj.name = 2"
   ]
  },
  {
   "cell_type": "code",
   "execution_count": 37,
   "metadata": {},
   "outputs": [
    {
     "output_type": "execute_result",
     "data": {
      "text/plain": [
       "2"
      ]
     },
     "metadata": {},
     "execution_count": 37
    }
   ],
   "source": [
    "obj.name"
   ]
  },
  {
   "cell_type": "code",
   "execution_count": 32,
   "metadata": {},
   "outputs": [
    {
     "output_type": "stream",
     "name": "stdout",
     "text": [
      "manu\n"
     ]
    }
   ],
   "source": [
    "obj.print_()"
   ]
  },
  {
   "cell_type": "code",
   "execution_count": 26,
   "metadata": {},
   "outputs": [],
   "source": [
    "obj2 = MyClass()"
   ]
  },
  {
   "cell_type": "code",
   "execution_count": 27,
   "metadata": {},
   "outputs": [
    {
     "output_type": "error",
     "ename": "AttributeError",
     "evalue": "'MyClass' object has no attribute 'name'",
     "traceback": [
      "\u001b[1;31m---------------------------------------------------------------------------\u001b[0m",
      "\u001b[1;31mAttributeError\u001b[0m                            Traceback (most recent call last)",
      "\u001b[1;32m<ipython-input-27-893a362f54ac>\u001b[0m in \u001b[0;36m<module>\u001b[1;34m\u001b[0m\n\u001b[1;32m----> 1\u001b[1;33m \u001b[0mobj2\u001b[0m\u001b[1;33m.\u001b[0m\u001b[0mname\u001b[0m\u001b[1;33m\u001b[0m\u001b[0m\n\u001b[0m",
      "\u001b[1;31mAttributeError\u001b[0m: 'MyClass' object has no attribute 'name'"
     ]
    }
   ],
   "source": []
  },
  {
   "cell_type": "code",
   "execution_count": null,
   "metadata": {},
   "outputs": [],
   "source": []
  },
  {
   "cell_type": "code",
   "execution_count": 68,
   "metadata": {},
   "outputs": [],
   "source": [
    "class A:\n",
    "    def __init__(self, arg2):\n",
    "        self.name = arg2\n",
    "    \n",
    "    def change_name(self):\n",
    "        self.name = \"NAME CHANGED\""
   ]
  },
  {
   "cell_type": "code",
   "execution_count": 69,
   "metadata": {},
   "outputs": [],
   "source": [
    "obj1, obj2 = A(\"Manu\"), A(\"Anjali\")"
   ]
  },
  {
   "cell_type": "code",
   "execution_count": 70,
   "metadata": {},
   "outputs": [],
   "source": [
    "obj1.change_name()"
   ]
  },
  {
   "cell_type": "code",
   "execution_count": 71,
   "metadata": {},
   "outputs": [
    {
     "output_type": "execute_result",
     "data": {
      "text/plain": [
       "('NAME CHANGED', 'Anjali')"
      ]
     },
     "metadata": {},
     "execution_count": 71
    }
   ],
   "source": [
    "obj1.name, obj2.name"
   ]
  },
  {
   "cell_type": "code",
   "execution_count": 72,
   "metadata": {},
   "outputs": [],
   "source": [
    "obj1.__init__(\"Manu\")"
   ]
  },
  {
   "cell_type": "code",
   "execution_count": 73,
   "metadata": {},
   "outputs": [
    {
     "output_type": "execute_result",
     "data": {
      "text/plain": [
       "('Manu', 'Anjali')"
      ]
     },
     "metadata": {},
     "execution_count": 73
    }
   ],
   "source": [
    "obj1.name, obj2.name"
   ]
  },
  {
   "cell_type": "code",
   "execution_count": 77,
   "metadata": {},
   "outputs": [],
   "source": [
    "A.__init__(obj1, \"Manu\") # obj1.__init__(\"Manu\")"
   ]
  },
  {
   "cell_type": "code",
   "execution_count": 75,
   "metadata": {},
   "outputs": [
    {
     "output_type": "execute_result",
     "data": {
      "text/plain": [
       "<bound method A.__init__ of <__main__.A object at 0x000001EADB7F1A90>>"
      ]
     },
     "metadata": {},
     "execution_count": 75
    }
   ],
   "source": [
    "obj1.__init__"
   ]
  },
  {
   "cell_type": "code",
   "execution_count": 78,
   "metadata": {},
   "outputs": [
    {
     "output_type": "execute_result",
     "data": {
      "text/plain": [
       "'Aman'"
      ]
     },
     "metadata": {},
     "execution_count": 78
    }
   ],
   "source": [
    "obj2.__init__(\"Aman\")\n",
    "obj2.name"
   ]
  },
  {
   "cell_type": "code",
   "execution_count": 80,
   "metadata": {},
   "outputs": [
    {
     "output_type": "execute_result",
     "data": {
      "text/plain": [
       "'AR Rahman'"
      ]
     },
     "metadata": {},
     "execution_count": 80
    }
   ],
   "source": [
    "A.__init__(obj2, \"AR Rahman\")\n",
    "obj2.name"
   ]
  },
  {
   "cell_type": "code",
   "execution_count": 81,
   "metadata": {},
   "outputs": [
    {
     "output_type": "execute_result",
     "data": {
      "text/plain": [
       "(type, __main__.A)"
      ]
     },
     "metadata": {},
     "execution_count": 81
    }
   ],
   "source": [
    "type(A), type(obj2)"
   ]
  },
  {
   "cell_type": "code",
   "execution_count": 82,
   "metadata": {},
   "outputs": [
    {
     "output_type": "execute_result",
     "data": {
      "text/plain": [
       "(type, int)"
      ]
     },
     "metadata": {},
     "execution_count": 82
    }
   ],
   "source": [
    "type(int), type(1)"
   ]
  },
  {
   "cell_type": "code",
   "execution_count": 83,
   "metadata": {},
   "outputs": [],
   "source": [
    "class Employee:\n",
    "    def __init__(self, name, designation, id, salary, department):\n",
    "        self.name = name\n",
    "        self.designation = designation\n",
    "        self.id = id\n",
    "        self.salary = salary\n",
    "        self.department = department"
   ]
  },
  {
   "cell_type": "code",
   "execution_count": 84,
   "metadata": {},
   "outputs": [],
   "source": [
    "emp1 = Employee(\"Manu\", \"mentor\", 123123, 70000, \"CLASS\")"
   ]
  },
  {
   "cell_type": "code",
   "execution_count": 86,
   "metadata": {},
   "outputs": [
    {
     "output_type": "execute_result",
     "data": {
      "text/plain": [
       "('Manu', 'mentor', 123123, 70000, 'CLASS')"
      ]
     },
     "metadata": {},
     "execution_count": 86
    }
   ],
   "source": [
    "emp1.name, emp1.designation, emp1.id, emp1.salary, emp1.department"
   ]
  },
  {
   "cell_type": "code",
   "execution_count": 110,
   "metadata": {},
   "outputs": [],
   "source": [
    "class EMS:\n",
    "\n",
    "    def __init__(self, no_of_employees):\n",
    "        self.no_of_employees = no_of_employees\n",
    "        # self.employees = []\n",
    "\n",
    "        self.employees = [Employee(\"Manu1\", \"mentor\", 123123, 702000, \"CLASS\"), Employee(\"Manu2\", \"designer\", 123123, 700020, \"DEV\"), Employee(\"Manu3\", \"sde\", 123123, 700010, \"DEV\")]\n",
    "        # for i in range(no_of_employees):\n",
    "            # name = input(\"Enter Name:\")\n",
    "            # designation = input(\"Enter designation:\")\n",
    "            # id = int(input(\"Enter ID:\"))\n",
    "            # salary = int(input(\"Enter salary:\"))\n",
    "            # department = input(\"Enter Department:\")\n",
    "            # employee = Employee(name, designation, id, salary, department)\n",
    "            # self.employees.append(employee)\n",
    "        \n",
    "        print(\"Data added Sucessfully\")\n",
    "    \n",
    "    def get_expense(self):\n",
    "        # for i in range(self.no_of_employees):\n",
    "        total_salary = 0\n",
    "        for employee in self.employees:\n",
    "            total_salary += employee.salary\n",
    "        \n",
    "        return total_salary  \n",
    "    \n",
    "    def get_total_employee(self):\n",
    "        return len(self.employees)\n",
    "    \n",
    "    def get_department_wise_data(self):\n",
    "        unique_department = []\n",
    "\n",
    "        for employee in self.employees:\n",
    "            unique_department.append(employee.department)\n",
    "        \n",
    "        unique_department = set(unique_department)\n",
    "\n",
    "        data = {}\n",
    "\n",
    "        for uq in unique_department:\n",
    "            data[uq] = []\n",
    "            for employee in self.employees:\n",
    "                if employee.department == uq:\n",
    "                    data[uq].append(employee.name)\n",
    "            \n",
    "        return data\n",
    "    \n",
    "    def get_all_designation(self):\n",
    "        unique_designation = []\n",
    "        for employee in self.employees:\n",
    "            unique_designation.append(employee.designation)\n",
    "\n",
    "        return list(set(unique_designation))"
   ]
  },
  {
   "cell_type": "code",
   "execution_count": 111,
   "metadata": {},
   "outputs": [
    {
     "output_type": "stream",
     "name": "stdout",
     "text": [
      "Data added Sucessfully\n"
     ]
    }
   ],
   "source": [
    "ems1 = EMS(3)"
   ]
  },
  {
   "cell_type": "code",
   "execution_count": 112,
   "metadata": {},
   "outputs": [
    {
     "output_type": "execute_result",
     "data": {
      "text/plain": [
       "[<__main__.Employee at 0x1eadb7f1c88>,\n",
       " <__main__.Employee at 0x1eadb7f1c50>,\n",
       " <__main__.Employee at 0x1eadb7f16a0>]"
      ]
     },
     "metadata": {},
     "execution_count": 112
    }
   ],
   "source": [
    "ems1.employees"
   ]
  },
  {
   "cell_type": "code",
   "execution_count": 113,
   "metadata": {},
   "outputs": [
    {
     "output_type": "execute_result",
     "data": {
      "text/plain": [
       "2102030"
      ]
     },
     "metadata": {},
     "execution_count": 113
    }
   ],
   "source": [
    "ems1.get_expense()"
   ]
  },
  {
   "cell_type": "code",
   "execution_count": 115,
   "metadata": {},
   "outputs": [],
   "source": [
    "data = ems1.get_department_wise_data()"
   ]
  },
  {
   "cell_type": "code",
   "execution_count": 116,
   "metadata": {},
   "outputs": [
    {
     "output_type": "execute_result",
     "data": {
      "text/plain": [
       "(dict, {'DEV': ['Manu2', 'Manu3'], 'CLASS': ['Manu1']})"
      ]
     },
     "metadata": {},
     "execution_count": 116
    }
   ],
   "source": [
    "type(data), data"
   ]
  },
  {
   "cell_type": "code",
   "execution_count": 120,
   "metadata": {},
   "outputs": [
    {
     "output_type": "execute_result",
     "data": {
      "text/plain": [
       "['designer', 'mentor', 'sde']"
      ]
     },
     "metadata": {},
     "execution_count": 120
    }
   ],
   "source": [
    "ems1.get_all_designation()"
   ]
  },
  {
   "source": [
    "### File handling"
   ],
   "cell_type": "markdown",
   "metadata": {}
  },
  {
   "cell_type": "code",
   "execution_count": null,
   "metadata": {},
   "outputs": [],
   "source": [
    "string = \"Manu S Pillai\""
   ]
  },
  {
   "cell_type": "code",
   "execution_count": 173,
   "metadata": {},
   "outputs": [
    {
     "output_type": "execute_result",
     "data": {
      "text/plain": [
       "1"
      ]
     },
     "metadata": {},
     "execution_count": 173
    }
   ],
   "source": [
    "len(\"\\\\\")"
   ]
  },
  {
   "cell_type": "code",
   "execution_count": 186,
   "metadata": {},
   "outputs": [],
   "source": [
    "f = open(\"C:\\\\Users\\\\BobStone\\\\Desktop\\\\CB-LV-PY-DEC-20\\\\Session-6\\\\textfile.txt\", \"w\")"
   ]
  },
  {
   "cell_type": "code",
   "execution_count": 188,
   "metadata": {},
   "outputs": [
    {
     "output_type": "execute_result",
     "data": {
      "text/plain": [
       "13"
      ]
     },
     "metadata": {},
     "execution_count": 188
    }
   ],
   "source": [
    "f.write(\"coding blocks\")"
   ]
  },
  {
   "cell_type": "code",
   "execution_count": 189,
   "metadata": {},
   "outputs": [],
   "source": [
    "f.close()"
   ]
  },
  {
   "cell_type": "code",
   "execution_count": null,
   "metadata": {},
   "outputs": [],
   "source": []
  },
  {
   "cell_type": "code",
   "execution_count": null,
   "metadata": {},
   "outputs": [],
   "source": []
  },
  {
   "cell_type": "code",
   "execution_count": null,
   "metadata": {},
   "outputs": [],
   "source": []
  }
 ]
}