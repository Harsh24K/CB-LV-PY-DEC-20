{
 "metadata": {
  "language_info": {
   "codemirror_mode": {
    "name": "ipython",
    "version": 3
   },
   "file_extension": ".py",
   "mimetype": "text/x-python",
   "name": "python",
   "nbconvert_exporter": "python",
   "pygments_lexer": "ipython3",
   "version": "3.6.8-final"
  },
  "orig_nbformat": 2,
  "kernelspec": {
   "name": "python3",
   "display_name": "Python 3.6.8 64-bit",
   "metadata": {
    "interpreter": {
     "hash": "952603312201d9d1df6f1b6eb4a2044a9cb2cee3bbe4f29af3f4f86c434f8702"
    }
   }
  }
 },
 "nbformat": 4,
 "nbformat_minor": 2,
 "cells": [
  {
   "source": [
    "## Python for Web"
   ],
   "cell_type": "markdown",
   "metadata": {}
  },
  {
   "cell_type": "code",
   "execution_count": 1,
   "metadata": {},
   "outputs": [],
   "source": [
    "import requests"
   ]
  },
  {
   "cell_type": "code",
   "execution_count": 2,
   "metadata": {},
   "outputs": [
    {
     "output_type": "execute_result",
     "data": {
      "text/plain": [
       "['ConnectTimeout',\n",
       " 'ConnectionError',\n",
       " 'DependencyWarning',\n",
       " 'FileModeWarning',\n",
       " 'HTTPError',\n",
       " 'NullHandler',\n",
       " 'PreparedRequest',\n",
       " 'ReadTimeout',\n",
       " 'Request',\n",
       " 'RequestException',\n",
       " 'RequestsDependencyWarning',\n",
       " 'Response',\n",
       " 'Session',\n",
       " 'Timeout',\n",
       " 'TooManyRedirects',\n",
       " 'URLRequired',\n",
       " '__author__',\n",
       " '__author_email__',\n",
       " '__build__',\n",
       " '__builtins__',\n",
       " '__cached__',\n",
       " '__cake__',\n",
       " '__copyright__',\n",
       " '__description__',\n",
       " '__doc__',\n",
       " '__file__',\n",
       " '__license__',\n",
       " '__loader__',\n",
       " '__name__',\n",
       " '__package__',\n",
       " '__path__',\n",
       " '__spec__',\n",
       " '__title__',\n",
       " '__url__',\n",
       " '__version__',\n",
       " '_check_cryptography',\n",
       " '_internal_utils',\n",
       " 'adapters',\n",
       " 'api',\n",
       " 'auth',\n",
       " 'certs',\n",
       " 'chardet',\n",
       " 'check_compatibility',\n",
       " 'codes',\n",
       " 'compat',\n",
       " 'cookies',\n",
       " 'delete',\n",
       " 'exceptions',\n",
       " 'get',\n",
       " 'head',\n",
       " 'hooks',\n",
       " 'logging',\n",
       " 'models',\n",
       " 'options',\n",
       " 'packages',\n",
       " 'patch',\n",
       " 'post',\n",
       " 'put',\n",
       " 'request',\n",
       " 'session',\n",
       " 'sessions',\n",
       " 'ssl',\n",
       " 'status_codes',\n",
       " 'structures',\n",
       " 'urllib3',\n",
       " 'utils',\n",
       " 'warnings']"
      ]
     },
     "metadata": {},
     "execution_count": 2
    }
   ],
   "source": [
    "dir(requests)"
   ]
  },
  {
   "cell_type": "code",
   "execution_count": 36,
   "metadata": {},
   "outputs": [],
   "source": [
    "response = requests.get(\"https://api.exchangeratesapi.io/2020-05-13\")"
   ]
  },
  {
   "cell_type": "code",
   "execution_count": 37,
   "metadata": {},
   "outputs": [
    {
     "output_type": "execute_result",
     "data": {
      "text/plain": [
       "{'Date': 'Wed, 30 Dec 2020 14:49:39 GMT', 'Content-Type': 'application/json', 'Transfer-Encoding': 'chunked', 'Connection': 'keep-alive', 'Set-Cookie': '__cfduid=d378a99f72fa1dd0144b94db9230a04001609339779; expires=Fri, 29-Jan-21 14:49:39 GMT; path=/; domain=.exchangeratesapi.io; HttpOnly; SameSite=Lax', 'Vary': 'Accept-Encoding', 'Access-Control-Allow-Origin': '*', 'Access-Control-Allow-Credentials': 'true', 'Access-Control-Allow-Methods': 'GET', 'Content-Encoding': 'gzip', 'Cache-Control': 'max-age=1800', 'CF-Cache-Status': 'HIT', 'Age': '872', 'cf-request-id': '0755b951250000d9bc4739e000000001', 'Expect-CT': 'max-age=604800, report-uri=\"https://report-uri.cloudflare.com/cdn-cgi/beacon/expect-ct\"', 'Report-To': '{\"endpoints\":[{\"url\":\"https:\\\\/\\\\/a.nel.cloudflare.com\\\\/report?s=ABtcDUe9MkfIRnlaUV2S%2FYVY89szXeeCBuL%2BMTyDfAbKh8X897qazGNo8OTyvlbciaYs8mnzfyr2DI2jDw%2FdLYbofts92PC0gT5bTJX7KsHJBZuCkCu5RA%3D%3D\"}],\"group\":\"cf-nel\",\"max_age\":604800}', 'NEL': '{\"report_to\":\"cf-nel\",\"max_age\":604800}', 'Server': 'cloudflare', 'CF-RAY': '609c91950c43d9bc-SIN'}"
      ]
     },
     "metadata": {},
     "execution_count": 37
    }
   ],
   "source": [
    "response.headers"
   ]
  },
  {
   "cell_type": "code",
   "execution_count": 23,
   "metadata": {},
   "outputs": [
    {
     "output_type": "execute_result",
     "data": {
      "text/plain": [
       "['__attrs__',\n",
       " '__bool__',\n",
       " '__class__',\n",
       " '__delattr__',\n",
       " '__dict__',\n",
       " '__dir__',\n",
       " '__doc__',\n",
       " '__enter__',\n",
       " '__eq__',\n",
       " '__exit__',\n",
       " '__format__',\n",
       " '__ge__',\n",
       " '__getattribute__',\n",
       " '__getstate__',\n",
       " '__gt__',\n",
       " '__hash__',\n",
       " '__init__',\n",
       " '__init_subclass__',\n",
       " '__iter__',\n",
       " '__le__',\n",
       " '__lt__',\n",
       " '__module__',\n",
       " '__ne__',\n",
       " '__new__',\n",
       " '__nonzero__',\n",
       " '__reduce__',\n",
       " '__reduce_ex__',\n",
       " '__repr__',\n",
       " '__setattr__',\n",
       " '__setstate__',\n",
       " '__sizeof__',\n",
       " '__str__',\n",
       " '__subclasshook__',\n",
       " '__weakref__',\n",
       " '_content',\n",
       " '_content_consumed',\n",
       " '_next',\n",
       " 'apparent_encoding',\n",
       " 'close',\n",
       " 'connection',\n",
       " 'content',\n",
       " 'cookies',\n",
       " 'elapsed',\n",
       " 'encoding',\n",
       " 'headers',\n",
       " 'history',\n",
       " 'is_permanent_redirect',\n",
       " 'is_redirect',\n",
       " 'iter_content',\n",
       " 'iter_lines',\n",
       " 'json',\n",
       " 'links',\n",
       " 'next',\n",
       " 'ok',\n",
       " 'raise_for_status',\n",
       " 'raw',\n",
       " 'reason',\n",
       " 'request',\n",
       " 'status_code',\n",
       " 'text',\n",
       " 'url']"
      ]
     },
     "metadata": {},
     "execution_count": 23
    }
   ],
   "source": [
    "dir(response)"
   ]
  },
  {
   "cell_type": "code",
   "execution_count": 24,
   "metadata": {},
   "outputs": [
    {
     "output_type": "execute_result",
     "data": {
      "text/plain": [
       "b'{\"rates\":{\"CAD\":1.5243,\"HKD\":8.4286,\"ISK\":158.3,\"PHP\":54.545,\"DKK\":7.4556,\"HUF\":353.58,\"CZK\":27.408,\"AUD\":1.6687,\"RON\":4.8353,\"SEK\":10.5843,\"IDR\":16092.26,\"INR\":81.8825,\"BRL\":6.3606,\"RUB\":79.5893,\"HRK\":7.5705,\"JPY\":116.28,\"THB\":34.844,\"CHF\":1.0528,\"SGD\":1.538,\"PLN\":4.5636,\"BGN\":1.9558,\"TRY\":7.5861,\"CNY\":7.7102,\"NOK\":10.938,\"NZD\":1.7983,\"ZAR\":19.919,\"USD\":1.0875,\"MXN\":26.2304,\"ILS\":3.819,\"GBP\":0.88245,\"KRW\":1331.08,\"MYR\":4.704},\"base\":\"EUR\",\"date\":\"2020-05-13\"}'"
      ]
     },
     "metadata": {},
     "execution_count": 24
    }
   ],
   "source": [
    "response.text\n",
    "response.content"
   ]
  },
  {
   "cell_type": "code",
   "execution_count": 25,
   "metadata": {},
   "outputs": [],
   "source": [
    "data = response.json()"
   ]
  },
  {
   "cell_type": "code",
   "execution_count": 26,
   "metadata": {},
   "outputs": [
    {
     "output_type": "execute_result",
     "data": {
      "text/plain": [
       "dict"
      ]
     },
     "metadata": {},
     "execution_count": 26
    }
   ],
   "source": [
    "type(data)"
   ]
  },
  {
   "cell_type": "code",
   "execution_count": 27,
   "metadata": {},
   "outputs": [
    {
     "output_type": "execute_result",
     "data": {
      "text/plain": [
       "dict_keys(['rates', 'base', 'date'])"
      ]
     },
     "metadata": {},
     "execution_count": 27
    }
   ],
   "source": [
    "data.keys()"
   ]
  },
  {
   "cell_type": "code",
   "execution_count": 28,
   "metadata": {},
   "outputs": [
    {
     "output_type": "execute_result",
     "data": {
      "text/plain": [
       "('EUR', '2020-05-13')"
      ]
     },
     "metadata": {},
     "execution_count": 28
    }
   ],
   "source": [
    "data[\"base\"], data[\"date\"]"
   ]
  },
  {
   "cell_type": "code",
   "execution_count": 29,
   "metadata": {},
   "outputs": [
    {
     "output_type": "execute_result",
     "data": {
      "text/plain": [
       "81.8825"
      ]
     },
     "metadata": {},
     "execution_count": 29
    }
   ],
   "source": [
    "data[\"rates\"][\"INR\"]"
   ]
  },
  {
   "cell_type": "code",
   "execution_count": 30,
   "metadata": {},
   "outputs": [],
   "source": [
    "response = requests.get(\"https://www.manuspillai.in/\")"
   ]
  },
  {
   "cell_type": "code",
   "execution_count": 32,
   "metadata": {},
   "outputs": [
    {
     "output_type": "execute_result",
     "data": {
      "text/plain": [
       "62182"
      ]
     },
     "metadata": {},
     "execution_count": 32
    }
   ],
   "source": [
    "open(\"./home.html\", \"wb\").write(response.content)"
   ]
  },
  {
   "cell_type": "code",
   "execution_count": 35,
   "metadata": {},
   "outputs": [
    {
     "output_type": "execute_result",
     "data": {
      "text/plain": [
       "{'Content-Type': 'text/html; charset=utf-8', 'X-Frame-Options': 'DENY', 'Cache-Control': 'no-cache, no-store, max-age=0, must-revalidate', 'Pragma': 'no-cache', 'Expires': 'Mon, 01 Jan 1990 00:00:00 GMT', 'Date': 'Wed, 30 Dec 2020 14:47:27 GMT', 'Content-Security-Policy': \"base-uri 'self';object-src 'none';report-uri /_/view/cspreport;script-src 'nonce-wq/lTlaWjQx2q2/phfV0ow' 'unsafe-inline' 'unsafe-eval';worker-src 'self';frame-ancestors https://data.corp.google.com https://dashboards.corp.google.com https://google-admin.corp.google.com/\", 'Referrer-Policy': 'origin', 'Server': 'ESF', 'X-XSS-Protection': '0', 'X-Content-Type-Options': 'nosniff', 'Content-Encoding': 'gzip', 'Transfer-Encoding': 'chunked'}"
      ]
     },
     "metadata": {},
     "execution_count": 35
    }
   ],
   "source": [
    "response.headers"
   ]
  },
  {
   "cell_type": "code",
   "execution_count": 34,
   "metadata": {},
   "outputs": [
    {
     "output_type": "error",
     "ename": "JSONDecodeError",
     "evalue": "Expecting value: line 1 column 1 (char 0)",
     "traceback": [
      "\u001b[1;31m---------------------------------------------------------------------------\u001b[0m",
      "\u001b[1;31mJSONDecodeError\u001b[0m                           Traceback (most recent call last)",
      "\u001b[1;32m<ipython-input-34-34c975fa6377>\u001b[0m in \u001b[0;36m<module>\u001b[1;34m\u001b[0m\n\u001b[1;32m----> 1\u001b[1;33m \u001b[0mresponse\u001b[0m\u001b[1;33m.\u001b[0m\u001b[0mjson\u001b[0m\u001b[1;33m(\u001b[0m\u001b[1;33m)\u001b[0m\u001b[1;33m\u001b[0m\u001b[1;33m\u001b[0m\u001b[0m\n\u001b[0m",
      "\u001b[1;32m~\\AppData\\Local\\Programs\\Python\\Python36\\lib\\site-packages\\requests\\models.py\u001b[0m in \u001b[0;36mjson\u001b[1;34m(self, **kwargs)\u001b[0m\n\u001b[0;32m    898\u001b[0m                     \u001b[1;31m# used.\u001b[0m\u001b[1;33m\u001b[0m\u001b[1;33m\u001b[0m\u001b[1;33m\u001b[0m\u001b[0m\n\u001b[0;32m    899\u001b[0m                     \u001b[1;32mpass\u001b[0m\u001b[1;33m\u001b[0m\u001b[1;33m\u001b[0m\u001b[0m\n\u001b[1;32m--> 900\u001b[1;33m         \u001b[1;32mreturn\u001b[0m \u001b[0mcomplexjson\u001b[0m\u001b[1;33m.\u001b[0m\u001b[0mloads\u001b[0m\u001b[1;33m(\u001b[0m\u001b[0mself\u001b[0m\u001b[1;33m.\u001b[0m\u001b[0mtext\u001b[0m\u001b[1;33m,\u001b[0m \u001b[1;33m**\u001b[0m\u001b[0mkwargs\u001b[0m\u001b[1;33m)\u001b[0m\u001b[1;33m\u001b[0m\u001b[1;33m\u001b[0m\u001b[0m\n\u001b[0m\u001b[0;32m    901\u001b[0m \u001b[1;33m\u001b[0m\u001b[0m\n\u001b[0;32m    902\u001b[0m     \u001b[1;33m@\u001b[0m\u001b[0mproperty\u001b[0m\u001b[1;33m\u001b[0m\u001b[1;33m\u001b[0m\u001b[0m\n",
      "\u001b[1;32m~\\AppData\\Local\\Programs\\Python\\Python36\\lib\\json\\__init__.py\u001b[0m in \u001b[0;36mloads\u001b[1;34m(s, encoding, cls, object_hook, parse_float, parse_int, parse_constant, object_pairs_hook, **kw)\u001b[0m\n\u001b[0;32m    352\u001b[0m             \u001b[0mparse_int\u001b[0m \u001b[1;32mis\u001b[0m \u001b[1;32mNone\u001b[0m \u001b[1;32mand\u001b[0m \u001b[0mparse_float\u001b[0m \u001b[1;32mis\u001b[0m \u001b[1;32mNone\u001b[0m \u001b[1;32mand\u001b[0m\u001b[1;33m\u001b[0m\u001b[1;33m\u001b[0m\u001b[0m\n\u001b[0;32m    353\u001b[0m             parse_constant is None and object_pairs_hook is None and not kw):\n\u001b[1;32m--> 354\u001b[1;33m         \u001b[1;32mreturn\u001b[0m \u001b[0m_default_decoder\u001b[0m\u001b[1;33m.\u001b[0m\u001b[0mdecode\u001b[0m\u001b[1;33m(\u001b[0m\u001b[0ms\u001b[0m\u001b[1;33m)\u001b[0m\u001b[1;33m\u001b[0m\u001b[1;33m\u001b[0m\u001b[0m\n\u001b[0m\u001b[0;32m    355\u001b[0m     \u001b[1;32mif\u001b[0m \u001b[0mcls\u001b[0m \u001b[1;32mis\u001b[0m \u001b[1;32mNone\u001b[0m\u001b[1;33m:\u001b[0m\u001b[1;33m\u001b[0m\u001b[1;33m\u001b[0m\u001b[0m\n\u001b[0;32m    356\u001b[0m         \u001b[0mcls\u001b[0m \u001b[1;33m=\u001b[0m \u001b[0mJSONDecoder\u001b[0m\u001b[1;33m\u001b[0m\u001b[1;33m\u001b[0m\u001b[0m\n",
      "\u001b[1;32m~\\AppData\\Local\\Programs\\Python\\Python36\\lib\\json\\decoder.py\u001b[0m in \u001b[0;36mdecode\u001b[1;34m(self, s, _w)\u001b[0m\n\u001b[0;32m    337\u001b[0m \u001b[1;33m\u001b[0m\u001b[0m\n\u001b[0;32m    338\u001b[0m         \"\"\"\n\u001b[1;32m--> 339\u001b[1;33m         \u001b[0mobj\u001b[0m\u001b[1;33m,\u001b[0m \u001b[0mend\u001b[0m \u001b[1;33m=\u001b[0m \u001b[0mself\u001b[0m\u001b[1;33m.\u001b[0m\u001b[0mraw_decode\u001b[0m\u001b[1;33m(\u001b[0m\u001b[0ms\u001b[0m\u001b[1;33m,\u001b[0m \u001b[0midx\u001b[0m\u001b[1;33m=\u001b[0m\u001b[0m_w\u001b[0m\u001b[1;33m(\u001b[0m\u001b[0ms\u001b[0m\u001b[1;33m,\u001b[0m \u001b[1;36m0\u001b[0m\u001b[1;33m)\u001b[0m\u001b[1;33m.\u001b[0m\u001b[0mend\u001b[0m\u001b[1;33m(\u001b[0m\u001b[1;33m)\u001b[0m\u001b[1;33m)\u001b[0m\u001b[1;33m\u001b[0m\u001b[1;33m\u001b[0m\u001b[0m\n\u001b[0m\u001b[0;32m    340\u001b[0m         \u001b[0mend\u001b[0m \u001b[1;33m=\u001b[0m \u001b[0m_w\u001b[0m\u001b[1;33m(\u001b[0m\u001b[0ms\u001b[0m\u001b[1;33m,\u001b[0m \u001b[0mend\u001b[0m\u001b[1;33m)\u001b[0m\u001b[1;33m.\u001b[0m\u001b[0mend\u001b[0m\u001b[1;33m(\u001b[0m\u001b[1;33m)\u001b[0m\u001b[1;33m\u001b[0m\u001b[1;33m\u001b[0m\u001b[0m\n\u001b[0;32m    341\u001b[0m         \u001b[1;32mif\u001b[0m \u001b[0mend\u001b[0m \u001b[1;33m!=\u001b[0m \u001b[0mlen\u001b[0m\u001b[1;33m(\u001b[0m\u001b[0ms\u001b[0m\u001b[1;33m)\u001b[0m\u001b[1;33m:\u001b[0m\u001b[1;33m\u001b[0m\u001b[1;33m\u001b[0m\u001b[0m\n",
      "\u001b[1;32m~\\AppData\\Local\\Programs\\Python\\Python36\\lib\\json\\decoder.py\u001b[0m in \u001b[0;36mraw_decode\u001b[1;34m(self, s, idx)\u001b[0m\n\u001b[0;32m    355\u001b[0m             \u001b[0mobj\u001b[0m\u001b[1;33m,\u001b[0m \u001b[0mend\u001b[0m \u001b[1;33m=\u001b[0m \u001b[0mself\u001b[0m\u001b[1;33m.\u001b[0m\u001b[0mscan_once\u001b[0m\u001b[1;33m(\u001b[0m\u001b[0ms\u001b[0m\u001b[1;33m,\u001b[0m \u001b[0midx\u001b[0m\u001b[1;33m)\u001b[0m\u001b[1;33m\u001b[0m\u001b[1;33m\u001b[0m\u001b[0m\n\u001b[0;32m    356\u001b[0m         \u001b[1;32mexcept\u001b[0m \u001b[0mStopIteration\u001b[0m \u001b[1;32mas\u001b[0m \u001b[0merr\u001b[0m\u001b[1;33m:\u001b[0m\u001b[1;33m\u001b[0m\u001b[1;33m\u001b[0m\u001b[0m\n\u001b[1;32m--> 357\u001b[1;33m             \u001b[1;32mraise\u001b[0m \u001b[0mJSONDecodeError\u001b[0m\u001b[1;33m(\u001b[0m\u001b[1;34m\"Expecting value\"\u001b[0m\u001b[1;33m,\u001b[0m \u001b[0ms\u001b[0m\u001b[1;33m,\u001b[0m \u001b[0merr\u001b[0m\u001b[1;33m.\u001b[0m\u001b[0mvalue\u001b[0m\u001b[1;33m)\u001b[0m \u001b[1;32mfrom\u001b[0m \u001b[1;32mNone\u001b[0m\u001b[1;33m\u001b[0m\u001b[1;33m\u001b[0m\u001b[0m\n\u001b[0m\u001b[0;32m    358\u001b[0m         \u001b[1;32mreturn\u001b[0m \u001b[0mobj\u001b[0m\u001b[1;33m,\u001b[0m \u001b[0mend\u001b[0m\u001b[1;33m\u001b[0m\u001b[1;33m\u001b[0m\u001b[0m\n",
      "\u001b[1;31mJSONDecodeError\u001b[0m: Expecting value: line 1 column 1 (char 0)"
     ]
    }
   ],
   "source": [
    "response.json()"
   ]
  },
  {
   "cell_type": "code",
   "execution_count": 42,
   "metadata": {},
   "outputs": [],
   "source": [
    "response = requests.get(\"https://api.exchangeratesapi.io/latest?base=USD&symbols=INR,EUR\")"
   ]
  },
  {
   "cell_type": "code",
   "execution_count": 48,
   "metadata": {},
   "outputs": [],
   "source": [
    "response = requests.get(\"https://api.exchangeratesapi.io/latest\", params={\"base\":\"USD\", \"symbols\":[\"INR\",\"EUR\"]})"
   ]
  },
  {
   "cell_type": "code",
   "execution_count": 49,
   "metadata": {},
   "outputs": [
    {
     "output_type": "execute_result",
     "data": {
      "text/plain": [
       "{'rates': {'INR': 73.3681376948, 'EUR': 0.8157272208},\n",
       " 'base': 'USD',\n",
       " 'date': '2020-12-29'}"
      ]
     },
     "metadata": {},
     "execution_count": 49
    }
   ],
   "source": [
    "response.json()"
   ]
  },
  {
   "cell_type": "code",
   "execution_count": 53,
   "metadata": {},
   "outputs": [],
   "source": [
    "kitten_image_response = requests.get(\"http://placekitten.com/100/100\")"
   ]
  },
  {
   "cell_type": "code",
   "execution_count": 54,
   "metadata": {},
   "outputs": [
    {
     "output_type": "execute_result",
     "data": {
      "text/plain": [
       "{'Date': 'Wed, 30 Dec 2020 15:02:11 GMT', 'Content-Length': '2335', 'Connection': 'keep-alive', 'Set-Cookie': '__cfduid=d7f6880be39d024c24da518ddb727aa1c1609340531; expires=Fri, 29-Jan-21 15:02:11 GMT; path=/; domain=.placekitten.com; HttpOnly; SameSite=Lax', 'Cache-Control': 'public, max-age=86400', 'Expires': 'Thu, 31 Dec 2020 20:00:00 GMT', 'Vary': 'User-Agent, Accept-Encoding', 'Access-Control-Allow-Origin': '*', 'CF-Cache-Status': 'HIT', 'Age': '24820', 'Accept-Ranges': 'bytes', 'cf-request-id': '0755c4cc7f000018c665188000000001', 'Report-To': '{\"endpoints\":[{\"url\":\"https:\\\\/\\\\/a.nel.cloudflare.com\\\\/report?s=mF0VmmQMJnQGZ3StKh1XtwsEQvdwTJ30j7n2O2975a%2BmdkLLdjmgjIsFoyJyiB%2BT9MNUqH%2FrfuBKRev3MisqN%2BkvT%2BiH1BDPejzArsNOxgc%3D\"}],\"group\":\"cf-nel\",\"max_age\":604800}', 'NEL': '{\"report_to\":\"cf-nel\",\"max_age\":604800}', 'Server': 'cloudflare', 'CF-RAY': '609ca3f3fd1d18c6-SIN'}"
      ]
     },
     "metadata": {},
     "execution_count": 54
    }
   ],
   "source": [
    "kitten_image_response.headers"
   ]
  },
  {
   "cell_type": "code",
   "execution_count": 55,
   "metadata": {},
   "outputs": [
    {
     "output_type": "execute_result",
     "data": {
      "text/plain": [
       "2335"
      ]
     },
     "metadata": {},
     "execution_count": 55
    }
   ],
   "source": [
    "open(\"random_kitten_image_1.jpeg\", \"wb\").write(kitten_image_response.content)"
   ]
  },
  {
   "cell_type": "code",
   "execution_count": 75,
   "metadata": {},
   "outputs": [],
   "source": [
    "random_dog_response = requests.get(\"https://dog.ceo/api/breeds/image/random\")"
   ]
  },
  {
   "cell_type": "code",
   "execution_count": 76,
   "metadata": {},
   "outputs": [
    {
     "output_type": "execute_result",
     "data": {
      "text/plain": [
       "{'Date': 'Wed, 30 Dec 2020 15:15:22 GMT', 'Content-Type': 'application/json', 'Transfer-Encoding': 'chunked', 'Connection': 'keep-alive', 'Set-Cookie': '__cfduid=d2be037fa7ebfcaf3e2a308c8ea96a3f41609341321; expires=Fri, 29-Jan-21 15:15:21 GMT; path=/; domain=.dog.ceo; HttpOnly; SameSite=Lax; Secure', 'X-Powered-By': 'PHP/7.3.17', 'Cache-Control': 'no-cache, private', 'Access-Control-Allow-Origin': '*', 'Via': '1.1 varnish (Varnish/6.3), 1.1 varnish (Varnish/6.3)', 'X-Cache-Hits': '0', 'X-Cache': 'MISS', 'Age': '0', 'Vary': '', 'CF-Cache-Status': 'DYNAMIC', 'cf-request-id': '0755d0da3600001a191881c000000001', 'Expect-CT': 'max-age=604800, report-uri=\"https://report-uri.cloudflare.com/cdn-cgi/beacon/expect-ct\"', 'Report-To': '{\"endpoints\":[{\"url\":\"https:\\\\/\\\\/a.nel.cloudflare.com\\\\/report?s=c7I0BnRrvUazjD2wdKjWlmrXNSK0TWrSz5cFVpwjckc5YYAj10ewvL6kUos8iTKYjTpke4Hxn7CG6d5BU%2BuukgITwCSKxqn3\"}],\"group\":\"cf-nel\",\"max_age\":604800}', 'NEL': '{\"report_to\":\"cf-nel\",\"max_age\":604800}', 'Server': 'cloudflare', 'CF-RAY': '609cb73d2eff1a19-SIN', 'Content-Encoding': 'gzip'}"
      ]
     },
     "metadata": {},
     "execution_count": 76
    }
   ],
   "source": [
    "random_dog_response.headers"
   ]
  },
  {
   "cell_type": "code",
   "execution_count": 77,
   "metadata": {},
   "outputs": [],
   "source": [
    "data = random_dog_response.json()"
   ]
  },
  {
   "cell_type": "code",
   "execution_count": 78,
   "metadata": {},
   "outputs": [],
   "source": [
    "image_response = requests.get(data[\"message\"])"
   ]
  },
  {
   "cell_type": "code",
   "execution_count": 79,
   "metadata": {},
   "outputs": [
    {
     "output_type": "execute_result",
     "data": {
      "text/plain": [
       "{'Date': 'Wed, 30 Dec 2020 15:15:26 GMT', 'Content-Type': 'image/jpeg', 'Content-Length': '27146', 'Connection': 'keep-alive', 'Set-Cookie': '__cfduid=d99a2b7943aba1f0944f6b9757163b3761609341325; expires=Fri, 29-Jan-21 15:15:25 GMT; path=/; domain=.dog.ceo; HttpOnly; SameSite=Lax; Secure', 'Last-Modified': 'Thu, 16 May 2019 15:46:16 GMT', 'ETag': '\"5cdd85c8-6a0a\"', 'Access-Control-Allow-Origin': '*', 'Access-Control-Allow-Methods': 'GET, POST, OPTIONS', 'Access-Control-Allow-Headers': 'DNT,X-Mx-ReqToken,Keep-Alive,User-Agent,X-Requested-With,If-Modified-Since,Cache-Control,Content-Type', 'Cache-Control': 'max-age=14400', 'CF-Cache-Status': 'MISS', 'Accept-Ranges': 'bytes', 'cf-request-id': '0755d0ea8600001904490dd000000001', 'Expect-CT': 'max-age=604800, report-uri=\"https://report-uri.cloudflare.com/cdn-cgi/beacon/expect-ct\"', 'Report-To': '{\"endpoints\":[{\"url\":\"https:\\\\/\\\\/a.nel.cloudflare.com\\\\/report?s=UIwOaNzy3tazLBg5Uq8SndrpZqKBdbsk7i3DWtGsXk%2B08g9qyfVbs1gWEN3Gk966%2F%2Br2LaetyPToWsFsVljibLAlfpTqjgTy2WAdfS8nSw%3D%3D\"}],\"group\":\"cf-nel\",\"max_age\":604800}', 'NEL': '{\"report_to\":\"cf-nel\",\"max_age\":604800}', 'Vary': 'Accept-Encoding', 'Server': 'cloudflare', 'CF-RAY': '609cb757384b1904-SIN'}"
      ]
     },
     "metadata": {},
     "execution_count": 79
    }
   ],
   "source": [
    "image_response.headers"
   ]
  },
  {
   "cell_type": "code",
   "execution_count": 80,
   "metadata": {},
   "outputs": [
    {
     "output_type": "execute_result",
     "data": {
      "text/plain": [
       "27146"
      ]
     },
     "metadata": {},
     "execution_count": 80
    }
   ],
   "source": [
    "open(\"random_dog_image.jpeg\", \"wb\").write(image_response.content)"
   ]
  },
  {
   "cell_type": "code",
   "execution_count": 81,
   "metadata": {},
   "outputs": [],
   "source": [
    "def get_image(url, folder=\"Dog_image\"):\n",
    "    import os, time\n",
    "\n",
    "    if not os.path.exists(folder):\n",
    "        os.mkdir(folder)\n",
    "    \n",
    "    for i in range(5):\n",
    "        filename = os.path.join(folder, str(i)+\".jpeg\")\n",
    "        response = requests.get(url)\n",
    "\n",
    "        image_url = response.json()[\"message\"]\n",
    "\n",
    "\n",
    "        image_response = requests.get(image_url)\n",
    "\n",
    "        open(filename, \"wb\").write(image_response.content)\n",
    "\n",
    "        time.sleep(3)\n",
    "\n"
   ]
  },
  {
   "cell_type": "code",
   "execution_count": 82,
   "metadata": {},
   "outputs": [],
   "source": [
    "get_image(\"https://dog.ceo/api/breeds/image/random\")"
   ]
  },
  {
   "cell_type": "code",
   "execution_count": 84,
   "metadata": {},
   "outputs": [
    {
     "output_type": "stream",
     "text": [
      "\u001b[1;31mSignature:\u001b[0m \u001b[0mrequests\u001b[0m\u001b[1;33m.\u001b[0m\u001b[0mpost\u001b[0m\u001b[1;33m(\u001b[0m\u001b[0murl\u001b[0m\u001b[1;33m,\u001b[0m \u001b[0mdata\u001b[0m\u001b[1;33m=\u001b[0m\u001b[1;32mNone\u001b[0m\u001b[1;33m,\u001b[0m \u001b[0mjson\u001b[0m\u001b[1;33m=\u001b[0m\u001b[1;32mNone\u001b[0m\u001b[1;33m,\u001b[0m \u001b[1;33m**\u001b[0m\u001b[0mkwargs\u001b[0m\u001b[1;33m)\u001b[0m\u001b[1;33m\u001b[0m\u001b[1;33m\u001b[0m\u001b[0m\n",
      "\u001b[1;31mDocstring:\u001b[0m\n",
      "Sends a POST request.\n",
      "\n",
      ":param url: URL for the new :class:`Request` object.\n",
      ":param data: (optional) Dictionary, list of tuples, bytes, or file-like\n",
      "    object to send in the body of the :class:`Request`.\n",
      ":param json: (optional) json data to send in the body of the :class:`Request`.\n",
      ":param \\*\\*kwargs: Optional arguments that ``request`` takes.\n",
      ":return: :class:`Response <Response>` object\n",
      ":rtype: requests.Response\n",
      "\u001b[1;31mFile:\u001b[0m      c:\\users\\manu\\appdata\\local\\programs\\python\\python36\\lib\\site-packages\\requests\\api.py\n",
      "\u001b[1;31mType:\u001b[0m      function\n"
     ],
     "name": "stdout"
    }
   ],
   "source": [
    "requests.post?"
   ]
  },
  {
   "source": [
    "## Web Scraping"
   ],
   "cell_type": "markdown",
   "metadata": {}
  },
  {
   "cell_type": "code",
   "execution_count": 85,
   "metadata": {},
   "outputs": [],
   "source": [
    "response = requests.get(\"https://www.imdb.com/chart/top/\")"
   ]
  },
  {
   "cell_type": "code",
   "execution_count": 89,
   "metadata": {},
   "outputs": [
    {
     "output_type": "stream",
     "name": "stdout",
     "text": [
      "Collecting beautifulsoup4\n",
      "  Downloading https://files.pythonhosted.org/packages/d1/41/e6495bd7d3781cee623ce23ea6ac73282a373088fcd0ddc809a047b18eae/beautifulsoup4-4.9.3-py3-none-any.whl (115kB)\n",
      "Collecting soupsieve>1.2; python_version >= \"3.0\" (from beautifulsoup4)\n",
      "  Downloading https://files.pythonhosted.org/packages/02/fb/1c65691a9aeb7bd6ac2aa505b84cb8b49ac29c976411c6ab3659425e045f/soupsieve-2.1-py3-none-any.whl\n",
      "Installing collected packages: soupsieve, beautifulsoup4\n",
      "Successfully installed beautifulsoup4-4.9.3 soupsieve-2.1\n",
      "You are using pip version 18.1, however version 20.3.3 is available.\n",
      "You should consider upgrading via the 'python -m pip install --upgrade pip' command.\n"
     ]
    }
   ],
   "source": [
    "!pip install beautifulsoup4"
   ]
  },
  {
   "cell_type": "code",
   "execution_count": 94,
   "metadata": {},
   "outputs": [],
   "source": [
    "html_content = open(\"imdb.html\").read()"
   ]
  },
  {
   "cell_type": "code",
   "execution_count": 91,
   "metadata": {},
   "outputs": [],
   "source": [
    "from bs4 import BeautifulSoup"
   ]
  },
  {
   "cell_type": "code",
   "execution_count": 95,
   "metadata": {},
   "outputs": [],
   "source": [
    "# soup = BeautifulSoup(response.text)\n",
    "soup = BeautifulSoup(html_content)"
   ]
  },
  {
   "cell_type": "code",
   "execution_count": 97,
   "metadata": {
    "tags": []
   },
   "outputs": [],
   "source": [
    "# print(soup.prettify())"
   ]
  },
  {
   "cell_type": "code",
   "execution_count": 98,
   "metadata": {},
   "outputs": [
    {
     "output_type": "execute_result",
     "data": {
      "text/plain": [
       "['ASCII_SPACES',\n",
       " 'DEFAULT_BUILDER_FEATURES',\n",
       " 'NO_PARSER_SPECIFIED_WARNING',\n",
       " 'ROOT_TAG_NAME',\n",
       " '__bool__',\n",
       " '__call__',\n",
       " '__class__',\n",
       " '__contains__',\n",
       " '__copy__',\n",
       " '__delattr__',\n",
       " '__delitem__',\n",
       " '__dict__',\n",
       " '__dir__',\n",
       " '__doc__',\n",
       " '__eq__',\n",
       " '__format__',\n",
       " '__ge__',\n",
       " '__getattr__',\n",
       " '__getattribute__',\n",
       " '__getitem__',\n",
       " '__getstate__',\n",
       " '__gt__',\n",
       " '__hash__',\n",
       " '__init__',\n",
       " '__init_subclass__',\n",
       " '__iter__',\n",
       " '__le__',\n",
       " '__len__',\n",
       " '__lt__',\n",
       " '__module__',\n",
       " '__ne__',\n",
       " '__new__',\n",
       " '__reduce__',\n",
       " '__reduce_ex__',\n",
       " '__repr__',\n",
       " '__setattr__',\n",
       " '__setitem__',\n",
       " '__sizeof__',\n",
       " '__str__',\n",
       " '__subclasshook__',\n",
       " '__unicode__',\n",
       " '__weakref__',\n",
       " '_all_strings',\n",
       " '_check_markup_is_url',\n",
       " '_decode_markup',\n",
       " '_feed',\n",
       " '_find_all',\n",
       " '_find_one',\n",
       " '_is_xml',\n",
       " '_lastRecursiveChild',\n",
       " '_last_descendant',\n",
       " '_linkage_fixer',\n",
       " '_most_recent_element',\n",
       " '_namespaces',\n",
       " '_popToTag',\n",
       " '_should_pretty_print',\n",
       " 'append',\n",
       " 'attrs',\n",
       " 'builder',\n",
       " 'can_be_empty_element',\n",
       " 'cdata_list_attributes',\n",
       " 'childGenerator',\n",
       " 'children',\n",
       " 'clear',\n",
       " 'contains_replacement_characters',\n",
       " 'contents',\n",
       " 'currentTag',\n",
       " 'current_data',\n",
       " 'declared_html_encoding',\n",
       " 'decode',\n",
       " 'decode_contents',\n",
       " 'decompose',\n",
       " 'decomposed',\n",
       " 'descendants',\n",
       " 'element_classes',\n",
       " 'encode',\n",
       " 'encode_contents',\n",
       " 'endData',\n",
       " 'extend',\n",
       " 'extract',\n",
       " 'fetchNextSiblings',\n",
       " 'fetchParents',\n",
       " 'fetchPrevious',\n",
       " 'fetchPreviousSiblings',\n",
       " 'find',\n",
       " 'findAll',\n",
       " 'findAllNext',\n",
       " 'findAllPrevious',\n",
       " 'findChild',\n",
       " 'findChildren',\n",
       " 'findNext',\n",
       " 'findNextSibling',\n",
       " 'findNextSiblings',\n",
       " 'findParent',\n",
       " 'findParents',\n",
       " 'findPrevious',\n",
       " 'findPreviousSibling',\n",
       " 'findPreviousSiblings',\n",
       " 'find_all',\n",
       " 'find_all_next',\n",
       " 'find_all_previous',\n",
       " 'find_next',\n",
       " 'find_next_sibling',\n",
       " 'find_next_siblings',\n",
       " 'find_parent',\n",
       " 'find_parents',\n",
       " 'find_previous',\n",
       " 'find_previous_sibling',\n",
       " 'find_previous_siblings',\n",
       " 'format_string',\n",
       " 'formatter_for_name',\n",
       " 'get',\n",
       " 'getText',\n",
       " 'get_attribute_list',\n",
       " 'get_text',\n",
       " 'handle_data',\n",
       " 'handle_endtag',\n",
       " 'handle_starttag',\n",
       " 'has_attr',\n",
       " 'has_key',\n",
       " 'hidden',\n",
       " 'index',\n",
       " 'insert',\n",
       " 'insert_after',\n",
       " 'insert_before',\n",
       " 'isSelfClosing',\n",
       " 'is_empty_element',\n",
       " 'is_xml',\n",
       " 'known_xml',\n",
       " 'markup',\n",
       " 'name',\n",
       " 'namespace',\n",
       " 'new_string',\n",
       " 'new_tag',\n",
       " 'next',\n",
       " 'nextGenerator',\n",
       " 'nextSibling',\n",
       " 'nextSiblingGenerator',\n",
       " 'next_element',\n",
       " 'next_elements',\n",
       " 'next_sibling',\n",
       " 'next_siblings',\n",
       " 'object_was_parsed',\n",
       " 'open_tag_counter',\n",
       " 'original_encoding',\n",
       " 'parent',\n",
       " 'parentGenerator',\n",
       " 'parents',\n",
       " 'parse_only',\n",
       " 'parserClass',\n",
       " 'parser_class',\n",
       " 'popTag',\n",
       " 'prefix',\n",
       " 'preserve_whitespace_tag_stack',\n",
       " 'preserve_whitespace_tags',\n",
       " 'prettify',\n",
       " 'previous',\n",
       " 'previousGenerator',\n",
       " 'previousSibling',\n",
       " 'previousSiblingGenerator',\n",
       " 'previous_element',\n",
       " 'previous_elements',\n",
       " 'previous_sibling',\n",
       " 'previous_siblings',\n",
       " 'pushTag',\n",
       " 'recursiveChildGenerator',\n",
       " 'renderContents',\n",
       " 'replaceWith',\n",
       " 'replaceWithChildren',\n",
       " 'replace_with',\n",
       " 'replace_with_children',\n",
       " 'reset',\n",
       " 'select',\n",
       " 'select_one',\n",
       " 'setup',\n",
       " 'smooth',\n",
       " 'string',\n",
       " 'string_container',\n",
       " 'string_container_stack',\n",
       " 'strings',\n",
       " 'stripped_strings',\n",
       " 'tagStack',\n",
       " 'text',\n",
       " 'unwrap',\n",
       " 'wrap']"
      ]
     },
     "metadata": {},
     "execution_count": 98
    }
   ],
   "source": [
    "dir(soup)"
   ]
  },
  {
   "cell_type": "code",
   "execution_count": 101,
   "metadata": {},
   "outputs": [],
   "source": [
    "table_tags = soup.find_all(\"table\")"
   ]
  },
  {
   "cell_type": "code",
   "execution_count": 107,
   "metadata": {},
   "outputs": [
    {
     "output_type": "execute_result",
     "data": {
      "text/plain": [
       "1"
      ]
     },
     "metadata": {},
     "execution_count": 107
    }
   ],
   "source": [
    "len(table_tags)"
   ]
  },
  {
   "cell_type": "code",
   "execution_count": 108,
   "metadata": {},
   "outputs": [
    {
     "output_type": "execute_result",
     "data": {
      "text/plain": [
       "2968"
      ]
     },
     "metadata": {},
     "execution_count": 108
    }
   ],
   "source": [
    "len(soup.find_all(\"div\"))"
   ]
  },
  {
   "cell_type": "code",
   "execution_count": 115,
   "metadata": {},
   "outputs": [],
   "source": [
    "tr_tags = table_tags[0].find_all(\"tbody\")[0].find_all(\"tr\")"
   ]
  },
  {
   "cell_type": "code",
   "execution_count": 116,
   "metadata": {},
   "outputs": [
    {
     "output_type": "execute_result",
     "data": {
      "text/plain": [
       "250"
      ]
     },
     "metadata": {},
     "execution_count": 116
    }
   ],
   "source": [
    "len(tr_tags)"
   ]
  },
  {
   "cell_type": "code",
   "execution_count": 117,
   "metadata": {},
   "outputs": [],
   "source": [
    "tr_tag = tr_tags[0]"
   ]
  },
  {
   "cell_type": "code",
   "execution_count": 121,
   "metadata": {},
   "outputs": [
    {
     "output_type": "execute_result",
     "data": {
      "text/plain": [
       "5"
      ]
     },
     "metadata": {},
     "execution_count": 121
    }
   ],
   "source": [
    "len(tr_tag.find_all(\"td\"))"
   ]
  },
  {
   "cell_type": "code",
   "execution_count": 125,
   "metadata": {},
   "outputs": [
    {
     "output_type": "execute_result",
     "data": {
      "text/plain": [
       "'The Shawshank Redemption'"
      ]
     },
     "metadata": {},
     "execution_count": 125
    }
   ],
   "source": [
    "tr_tag.find_all(\"td\")[1].find_all(\"a\")[0].text"
   ]
  },
  {
   "cell_type": "code",
   "execution_count": 135,
   "metadata": {},
   "outputs": [
    {
     "output_type": "stream",
     "name": "stdout",
     "text": [
      "The Shawshank Redemption\n",
      "\n",
      "9.2\n",
      "\n",
      "The Godfather\n",
      "\n",
      "9.1\n",
      "\n",
      "The Godfather: Part II\n",
      "\n",
      "9.0\n",
      "\n",
      "The Dark Knight\n",
      "\n",
      "9.0\n",
      "\n",
      "12 Angry Men\n",
      "\n",
      "8.9\n",
      "\n",
      "Schindler's List\n",
      "\n",
      "8.9\n",
      "\n",
      "The Lord of the Rings: The Return of the King\n",
      "\n",
      "8.9\n",
      "\n",
      "Pulp Fiction\n",
      "\n",
      "8.8\n",
      "\n",
      "The Good, the Bad and the Ugly\n",
      "\n",
      "8.8\n",
      "\n",
      "The Lord of the Rings: The Fellowship of the Ring\n",
      "\n",
      "8.8\n",
      "\n",
      "Fight Club\n",
      "\n",
      "8.8\n",
      "\n",
      "Forrest Gump\n",
      "\n",
      "8.8\n",
      "\n",
      "Inception\n",
      "\n",
      "8.7\n",
      "\n",
      "The Lord of the Rings: The Two Towers\n",
      "\n",
      "8.7\n",
      "\n",
      "Star Wars: Episode V - The Empire Strikes Back\n",
      "\n",
      "8.7\n",
      "\n",
      "The Matrix\n",
      "\n",
      "8.6\n",
      "\n",
      "Goodfellas\n",
      "\n",
      "8.6\n",
      "\n",
      "One Flew Over the Cuckoo's Nest\n",
      "\n",
      "8.6\n",
      "\n",
      "Seven Samurai\n",
      "\n",
      "8.6\n",
      "\n",
      "Se7en\n",
      "\n",
      "8.6\n",
      "\n",
      "Life Is Beautiful\n",
      "\n",
      "8.6\n",
      "\n",
      "City of God\n",
      "\n",
      "8.6\n",
      "\n",
      "The Silence of the Lambs\n",
      "\n",
      "8.6\n",
      "\n",
      "It's a Wonderful Life\n",
      "\n",
      "8.6\n",
      "\n",
      "Star Wars: Episode IV - A New Hope\n",
      "\n",
      "8.6\n",
      "\n",
      "Saving Private Ryan\n",
      "\n",
      "8.5\n",
      "\n",
      "Spirited Away\n",
      "\n",
      "8.5\n",
      "\n",
      "The Green Mile\n",
      "\n",
      "8.5\n",
      "\n",
      "Interstellar\n",
      "\n",
      "8.5\n",
      "\n",
      "Parasite\n",
      "\n",
      "8.5\n",
      "\n",
      "LÃ©on: The Professional\n",
      "\n",
      "8.5\n",
      "\n",
      "The Usual Suspects\n",
      "\n",
      "8.5\n",
      "\n",
      "Hara-Kiri\n",
      "\n",
      "8.5\n",
      "\n",
      "The Lion King\n",
      "\n",
      "8.5\n",
      "\n",
      "The Pianist\n",
      "\n",
      "8.5\n",
      "\n",
      "Back to the Future\n",
      "\n",
      "8.5\n",
      "\n",
      "Terminator 2: Judgment Day\n",
      "\n",
      "8.5\n",
      "\n",
      "American History X\n",
      "\n",
      "8.5\n",
      "\n",
      "Modern Times\n",
      "\n",
      "8.5\n",
      "\n",
      "Psycho\n",
      "\n",
      "8.5\n",
      "\n",
      "Gladiator\n",
      "\n",
      "8.5\n",
      "\n",
      "City Lights\n",
      "\n",
      "8.5\n",
      "\n",
      "The Departed\n",
      "\n",
      "8.5\n",
      "\n",
      "The Intouchables\n",
      "\n",
      "8.5\n",
      "\n",
      "Whiplash\n",
      "\n",
      "8.5\n",
      "\n",
      "The Prestige\n",
      "\n",
      "8.5\n",
      "\n",
      "Grave of the Fireflies\n",
      "\n",
      "8.5\n",
      "\n",
      "Once Upon a Time in the West\n",
      "\n",
      "8.4\n",
      "\n",
      "Casablanca\n",
      "\n",
      "8.4\n",
      "\n",
      "Cinema Paradiso\n",
      "\n",
      "8.4\n",
      "\n",
      "Hamilton\n",
      "\n",
      "8.4\n",
      "\n",
      "Rear Window\n",
      "\n",
      "8.4\n",
      "\n",
      "Alien\n",
      "\n",
      "8.4\n",
      "\n",
      "Apocalypse Now\n",
      "\n",
      "8.4\n",
      "\n",
      "Memento\n",
      "\n",
      "8.4\n",
      "\n",
      "The Great Dictator\n",
      "\n",
      "8.4\n",
      "\n",
      "Indiana Jones and the Raiders of the Lost Ark\n",
      "\n",
      "8.4\n",
      "\n",
      "Django Unchained\n",
      "\n",
      "8.4\n",
      "\n",
      "The Lives of Others\n",
      "\n",
      "8.4\n",
      "\n",
      "Joker\n",
      "\n",
      "8.4\n",
      "\n",
      "Paths of Glory\n",
      "\n",
      "8.4\n",
      "\n",
      "WALLÂ·E\n",
      "\n",
      "8.4\n",
      "\n",
      "The Shining\n",
      "\n",
      "8.4\n",
      "\n",
      "Avengers: Infinity War\n",
      "\n",
      "8.4\n",
      "\n",
      "Sunset Blvd.\n",
      "\n",
      "8.4\n",
      "\n",
      "Witness for the Prosecution\n",
      "\n",
      "8.4\n",
      "\n",
      "Oldboy\n",
      "\n",
      "8.4\n",
      "\n",
      "Princess Mononoke\n",
      "\n",
      "8.3\n",
      "\n",
      "Spider-Man: Into the Spider-Verse\n",
      "\n",
      "8.3\n",
      "\n",
      "Dr. Strangelove or: How I Learned to Stop Worrying and Love the Bomb\n",
      "\n",
      "8.3\n",
      "\n",
      "The Dark Knight Rises\n",
      "\n",
      "8.3\n",
      "\n",
      "Once Upon a Time in America\n",
      "\n",
      "8.3\n",
      "\n",
      "Aliens\n",
      "\n",
      "8.3\n",
      "\n",
      "Your Name.\n",
      "\n",
      "8.3\n",
      "\n",
      "Coco\n",
      "\n",
      "8.3\n",
      "\n",
      "Avengers: Endgame\n",
      "\n",
      "8.3\n",
      "\n",
      "American Beauty\n",
      "\n",
      "8.3\n",
      "\n",
      "Braveheart\n",
      "\n",
      "8.3\n",
      "\n",
      "Das Boot\n",
      "\n",
      "8.3\n",
      "\n",
      "3 Idiots\n",
      "\n",
      "8.3\n",
      "\n",
      "Toy Story\n",
      "\n",
      "8.3\n",
      "\n",
      "Capernaum\n",
      "\n",
      "8.3\n",
      "\n",
      "High and Low\n",
      "\n",
      "8.3\n",
      "\n",
      "Amadeus\n",
      "\n",
      "8.3\n",
      "\n",
      "Inglourious Basterds\n",
      "\n",
      "8.3\n",
      "\n",
      "Star Wars: Episode VI - Return of the Jedi\n",
      "\n",
      "8.3\n",
      "\n",
      "Taare Zameen Par\n",
      "\n",
      "8.3\n",
      "\n",
      "Good Will Hunting\n",
      "\n",
      "8.3\n",
      "\n",
      "Reservoir Dogs\n",
      "\n",
      "8.3\n",
      "\n",
      "2001: A Space Odyssey\n",
      "\n",
      "8.3\n",
      "\n",
      "Requiem for a Dream\n",
      "\n",
      "8.3\n",
      "\n",
      "Vertigo\n",
      "\n",
      "8.3\n",
      "\n",
      "M\n",
      "\n",
      "8.3\n",
      "\n",
      "The Hunt\n",
      "\n",
      "8.3\n",
      "\n",
      "Eternal Sunshine of the Spotless Mind\n",
      "\n",
      "8.3\n",
      "\n",
      "Citizen Kane\n",
      "\n",
      "8.3\n",
      "\n",
      "Dangal\n",
      "\n",
      "8.3\n",
      "\n",
      "Full Metal Jacket\n",
      "\n",
      "8.2\n",
      "\n",
      "Singin' in the Rain\n",
      "\n",
      "8.2\n",
      "\n",
      "Bicycle Thieves\n",
      "\n",
      "8.2\n",
      "\n",
      "The Kid\n",
      "\n",
      "8.2\n",
      "\n",
      "1917\n",
      "\n",
      "8.2\n",
      "\n",
      "North by Northwest\n",
      "\n",
      "8.2\n",
      "\n",
      "A Clockwork Orange\n",
      "\n",
      "8.2\n",
      "\n",
      "Snatch\n",
      "\n",
      "8.2\n",
      "\n",
      "Scarface\n",
      "\n",
      "8.2\n",
      "\n",
      "Ikiru\n",
      "\n",
      "8.2\n",
      "\n",
      "Taxi Driver\n",
      "\n",
      "8.2\n",
      "\n",
      "Come and See\n",
      "\n",
      "8.2\n",
      "\n",
      "Toy Story 3\n",
      "\n",
      "8.2\n",
      "\n",
      "Lawrence of Arabia\n",
      "\n",
      "8.2\n",
      "\n",
      "AmÃ©lie\n",
      "\n",
      "8.2\n",
      "\n",
      "The Sting\n",
      "\n",
      "8.2\n",
      "\n",
      "A Separation\n",
      "\n",
      "8.2\n",
      "\n",
      "Metropolis\n",
      "\n",
      "8.2\n",
      "\n",
      "Incendies\n",
      "\n",
      "8.2\n",
      "\n",
      "For a Few Dollars More\n",
      "\n",
      "8.2\n",
      "\n",
      "The Apartment\n",
      "\n",
      "8.2\n",
      "\n",
      "Double Indemnity\n",
      "\n",
      "8.2\n",
      "\n",
      "To Kill a Mockingbird\n",
      "\n",
      "8.2\n",
      "\n",
      "Up\n",
      "\n",
      "8.2\n",
      "\n",
      "Indiana Jones and the Last Crusade\n",
      "\n",
      "8.2\n",
      "\n",
      "Heat\n",
      "\n",
      "8.2\n",
      "\n",
      "L.A. Confidential\n",
      "\n",
      "8.2\n",
      "\n",
      "Die Hard\n",
      "\n",
      "8.2\n",
      "\n",
      "Green Book\n",
      "\n",
      "8.2\n",
      "\n",
      "Monty Python and the Holy Grail\n",
      "\n",
      "8.2\n",
      "\n",
      "Yojimbo\n",
      "\n",
      "8.2\n",
      "\n",
      "Rashomon\n",
      "\n",
      "8.2\n",
      "\n",
      "Batman Begins\n",
      "\n",
      "8.2\n",
      "\n",
      "Downfall\n",
      "\n",
      "8.2\n",
      "\n",
      "Children of Heaven\n",
      "\n",
      "8.2\n",
      "\n",
      "Unforgiven\n",
      "\n",
      "8.2\n",
      "\n",
      "Some Like It Hot\n",
      "\n",
      "8.2\n",
      "\n",
      "Ran\n",
      "\n",
      "8.2\n",
      "\n",
      "Howl's Moving Castle\n",
      "\n",
      "8.2\n",
      "\n",
      "All About Eve\n",
      "\n",
      "8.2\n",
      "\n",
      "A Beautiful Mind\n",
      "\n",
      "8.2\n",
      "\n",
      "Casino\n",
      "\n",
      "8.2\n",
      "\n",
      "The Great Escape\n",
      "\n",
      "8.2\n",
      "\n",
      "The Wolf of Wall Street\n",
      "\n",
      "8.2\n",
      "\n",
      "Pan's Labyrinth\n",
      "\n",
      "8.2\n",
      "\n",
      "The Secret in Their Eyes\n",
      "\n",
      "8.1\n",
      "\n",
      "There Will Be Blood\n",
      "\n",
      "8.1\n",
      "\n",
      "Lock, Stock and Two Smoking Barrels\n",
      "\n",
      "8.1\n",
      "\n",
      "My Neighbor Totoro\n",
      "\n",
      "8.1\n",
      "\n",
      "Raging Bull\n",
      "\n",
      "8.1\n",
      "\n",
      "Judgment at Nuremberg\n",
      "\n",
      "8.1\n",
      "\n",
      "The Treasure of the Sierra Madre\n",
      "\n",
      "8.1\n",
      "\n",
      "Dial M for Murder\n",
      "\n",
      "8.1\n",
      "\n",
      "Three Billboards Outside Ebbing, Missouri\n",
      "\n",
      "8.1\n",
      "\n",
      "Shutter Island\n",
      "\n",
      "8.1\n",
      "\n",
      "The Gold Rush\n",
      "\n",
      "8.1\n",
      "\n",
      "Chinatown\n",
      "\n",
      "8.1\n",
      "\n",
      "My Father and My Son\n",
      "\n",
      "8.1\n",
      "\n",
      "No Country for Old Men\n",
      "\n",
      "8.1\n",
      "\n",
      "V for Vendetta\n",
      "\n",
      "8.1\n",
      "\n",
      "Soul\n",
      "\n",
      "8.1\n",
      "\n",
      "Inside Out\n",
      "\n",
      "8.1\n",
      "\n",
      "The Seventh Seal\n",
      "\n",
      "8.1\n",
      "\n",
      "The Elephant Man\n",
      "\n",
      "8.1\n",
      "\n",
      "Warrior\n",
      "\n",
      "8.1\n",
      "\n",
      "The Thing\n",
      "\n",
      "8.1\n",
      "\n",
      "The Sixth Sense\n",
      "\n",
      "8.1\n",
      "\n",
      "Trainspotting\n",
      "\n",
      "8.1\n",
      "\n",
      "Jurassic Park\n",
      "\n",
      "8.1\n",
      "\n",
      "Anand\n",
      "\n",
      "8.1\n",
      "\n",
      "The Truman Show\n",
      "\n",
      "8.1\n",
      "\n",
      "Gone with the Wind\n",
      "\n",
      "8.1\n",
      "\n",
      "Klaus\n",
      "\n",
      "8.1\n",
      "\n",
      "Finding Nemo\n",
      "\n",
      "8.1\n",
      "\n",
      "Wild Strawberries\n",
      "\n",
      "8.1\n",
      "\n",
      "Stalker\n",
      "\n",
      "8.1\n",
      "\n",
      "Blade Runner\n",
      "\n",
      "8.1\n",
      "\n",
      "Kill Bill: Vol. 1\n",
      "\n",
      "8.1\n",
      "\n",
      "Memories of Murder\n",
      "\n",
      "8.1\n",
      "\n",
      "The Bridge on the River Kwai\n",
      "\n",
      "8.1\n",
      "\n",
      "Fargo\n",
      "\n",
      "8.1\n",
      "\n",
      "Room\n",
      "\n",
      "8.1\n",
      "\n",
      "The Third Man\n",
      "\n",
      "8.1\n",
      "\n",
      "Gran Torino\n",
      "\n",
      "8.1\n",
      "\n",
      "On the Waterfront\n",
      "\n",
      "8.1\n",
      "\n",
      "Wild Tales\n",
      "\n",
      "8.1\n",
      "\n",
      "Tokyo Story\n",
      "\n",
      "8.1\n",
      "\n",
      "The Deer Hunter\n",
      "\n",
      "8.1\n",
      "\n",
      "Autumn Sonata\n",
      "\n",
      "8.1\n",
      "\n",
      "In the Name of the Father\n",
      "\n",
      "8.1\n",
      "\n",
      "Mary and Max\n",
      "\n",
      "8.1\n",
      "\n",
      "The Grand Budapest Hotel\n",
      "\n",
      "8.1\n",
      "\n",
      "Gone Girl\n",
      "\n",
      "8.1\n",
      "\n",
      "Before Sunrise\n",
      "\n",
      "8.1\n",
      "\n",
      "Hacksaw Ridge\n",
      "\n",
      "8.1\n",
      "\n",
      "Catch Me If You Can\n",
      "\n",
      "8.1\n",
      "\n",
      "Andhadhun\n",
      "\n",
      "8.1\n",
      "\n",
      "Persona\n",
      "\n",
      "8.1\n",
      "\n",
      "Prisoners\n",
      "\n",
      "8.1\n",
      "\n",
      "The Big Lebowski\n",
      "\n",
      "8.1\n",
      "\n",
      "To Be or Not to Be\n",
      "\n",
      "8.1\n",
      "\n",
      "Sherlock Jr.\n",
      "\n",
      "8.1\n",
      "\n",
      "The General\n",
      "\n",
      "8.1\n",
      "\n",
      "How to Train Your Dragon\n",
      "\n",
      "8.1\n",
      "\n",
      "The Bandit\n",
      "\n",
      "8.1\n",
      "\n",
      "Ford v Ferrari\n",
      "\n",
      "8.1\n",
      "\n",
      "12 Years a Slave\n",
      "\n",
      "8.1\n",
      "\n",
      "Barry Lyndon\n",
      "\n",
      "8.1\n",
      "\n",
      "Mr. Smith Goes to Washington\n",
      "\n",
      "8.1\n",
      "\n",
      "Mad Max: Fury Road\n",
      "\n",
      "8.1\n",
      "\n",
      "Time of the Gypsies\n",
      "\n",
      "8.1\n",
      "\n",
      "Million Dollar Baby\n",
      "\n",
      "8.1\n",
      "\n",
      "Network\n",
      "\n",
      "8.1\n",
      "\n",
      "Dead Poets Society\n",
      "\n",
      "8.1\n",
      "\n",
      "Stand by Me\n",
      "\n",
      "8.1\n",
      "\n",
      "Ben-Hur\n",
      "\n",
      "8.1\n",
      "\n",
      "Harry Potter and the Deathly Hallows: Part 2\n",
      "\n",
      "8.1\n",
      "\n",
      "Cool Hand Luke\n",
      "\n",
      "8.1\n",
      "\n",
      "Hachi: A Dog's Tale\n",
      "\n",
      "8.1\n",
      "\n",
      "Platoon\n",
      "\n",
      "8.1\n",
      "\n",
      "Logan\n",
      "\n",
      "8.0\n",
      "\n",
      "Into the Wild\n",
      "\n",
      "8.0\n",
      "\n",
      "The Handmaiden\n",
      "\n",
      "8.0\n",
      "\n",
      "Rush\n",
      "\n",
      "8.0\n",
      "\n",
      "The Wages of Fear\n",
      "\n",
      "8.0\n",
      "\n",
      "Monty Python's Life of Brian\n",
      "\n",
      "8.0\n",
      "\n",
      "The 400 Blows\n",
      "\n",
      "8.0\n",
      "\n",
      "Spotlight\n",
      "\n",
      "8.0\n",
      "\n",
      "The Passion of Joan of Arc\n",
      "\n",
      "8.0\n",
      "\n",
      "Hotel Rwanda\n",
      "\n",
      "8.0\n",
      "\n",
      "La Haine\n",
      "\n",
      "8.0\n",
      "\n",
      "Andrei Rublev\n",
      "\n",
      "8.0\n",
      "\n",
      "Amores Perros\n",
      "\n",
      "8.0\n",
      "\n",
      "Rocky\n",
      "\n",
      "8.0\n",
      "\n",
      "Gangs of Wasseypur\n",
      "\n",
      "8.0\n",
      "\n",
      "Monsters, Inc.\n",
      "\n",
      "8.0\n",
      "\n",
      "Vikram Vedha\n",
      "\n",
      "8.0\n",
      "\n",
      "NausicaÃ¤ of the Valley of the Wind\n",
      "\n",
      "8.0\n",
      "\n",
      "Rebecca\n",
      "\n",
      "8.0\n",
      "\n",
      "Rififi\n",
      "\n",
      "8.0\n",
      "\n",
      "Rang De Basanti\n",
      "\n",
      "8.0\n",
      "\n",
      "Before Sunset\n",
      "\n",
      "8.0\n",
      "\n",
      "In the Mood for Love\n",
      "\n",
      "8.0\n",
      "\n",
      "Portrait of a Lady on Fire\n",
      "\n",
      "8.0\n",
      "\n",
      "Paris, Texas\n",
      "\n",
      "8.0\n",
      "\n",
      "It Happened One Night\n",
      "\n",
      "8.0\n",
      "\n",
      "The Invisible Guest\n",
      "\n",
      "8.0\n",
      "\n",
      "Drishyam\n",
      "\n",
      "8.0\n",
      "\n",
      "The Help\n",
      "\n",
      "8.0\n",
      "\n",
      "The Princess Bride\n",
      "\n",
      "8.0\n",
      "\n",
      "The Battle of Algiers\n",
      "\n",
      "8.0\n",
      "\n",
      "Tangerines\n",
      "\n",
      "8.0\n",
      "\n",
      "Neon Genesis Evangelion: The End of Evangelion\n",
      "\n",
      "8.0\n",
      "\n"
     ]
    }
   ],
   "source": [
    "for tr_tag in tr_tags:\n",
    "    # td_tag = tr_tag.find_all(\"td\")\n",
    "    # print(td_tag[1].find_all(\"a\")[0].text, \"\\t\", td_tag[2].find_all(\"strong\")[0]\n",
    "    # .text)\n",
    "    title = tr_tag.find(\"td\", attrs={\"class\":\"titleColumn\"})\n",
    "\n",
    "    # print(title[\"class\"])\n",
    "    # title.find(\"a\")\n",
    "    print(title.a.text)\n",
    "    rating = tr_tag.find(\"td\", attrs={\"class\":\"ratingColumn imdbRating\"})\n",
    "    print(rating.text)\n",
    "    "
   ]
  },
  {
   "cell_type": "code",
   "execution_count": 137,
   "metadata": {
    "tags": []
   },
   "outputs": [
    {
     "output_type": "stream",
     "name": "stdout",
     "text": [
      "https://www.imdb.com//title/tt0111161/?pf_rd_m=A2FGELUUNOQJNL&pf_rd_p=e31d89dd-322d-4646-8962-327b42fe94b1&pf_rd_r=P0N5JQ5H3269R9SZX6SF&pf_rd_s=center-1&pf_rd_t=15506&pf_rd_i=top&ref_=chttp_tt_1\n"
     ]
    }
   ],
   "source": [
    "for tr_tag in tr_tags:\n",
    "    title = tr_tag.find(\"td\", attrs={\"class\":\"titleColumn\"})\n",
    "    print(\"https://www.imdb.com/\"+title.a[\"href\"])\n",
    "\n",
    "    break\n",
    "    "
   ]
  },
  {
   "cell_type": "code",
   "execution_count": null,
   "metadata": {},
   "outputs": [],
   "source": []
  },
  {
   "cell_type": "code",
   "execution_count": null,
   "metadata": {},
   "outputs": [],
   "source": []
  },
  {
   "cell_type": "code",
   "execution_count": null,
   "metadata": {},
   "outputs": [],
   "source": []
  }
 ]
}