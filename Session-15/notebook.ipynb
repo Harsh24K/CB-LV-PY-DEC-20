{
 "metadata": {
  "language_info": {
   "codemirror_mode": {
    "name": "ipython",
    "version": 3
   },
   "file_extension": ".py",
   "mimetype": "text/x-python",
   "name": "python",
   "nbconvert_exporter": "python",
   "pygments_lexer": "ipython3",
   "version": "3.6.8-final"
  },
  "orig_nbformat": 2,
  "kernelspec": {
   "name": "python3",
   "display_name": "Python 3.6.8 64-bit",
   "metadata": {
    "interpreter": {
     "hash": "952603312201d9d1df6f1b6eb4a2044a9cb2cee3bbe4f29af3f4f86c434f8702"
    }
   }
  }
 },
 "nbformat": 4,
 "nbformat_minor": 2,
 "cells": [
  {
   "cell_type": "code",
   "execution_count": 1,
   "metadata": {},
   "outputs": [],
   "source": [
    "import requests"
   ]
  },
  {
   "source": [
    "### POST request"
   ],
   "cell_type": "markdown",
   "metadata": {}
  },
  {
   "cell_type": "code",
   "execution_count": 14,
   "metadata": {},
   "outputs": [],
   "source": [
    "url = \"https://pastebin.com/api/api_post.php\"\n",
    "api_dev_key = \"\"\n",
    "api_option = \"paste\"\n",
    "api_paste_code = \"This is from Coding Blocks Python Batch 2020\""
   ]
  },
  {
   "cell_type": "code",
   "execution_count": 15,
   "metadata": {},
   "outputs": [],
   "source": [
    "data = {\"api_dev_key\" : api_dev_key, \"api_option\":api_option, \"api_paste_code\":api_paste_code}"
   ]
  },
  {
   "cell_type": "code",
   "execution_count": 16,
   "metadata": {},
   "outputs": [],
   "source": [
    "response = requests.post(url, data)"
   ]
  },
  {
   "cell_type": "code",
   "execution_count": 17,
   "metadata": {},
   "outputs": [
    {
     "output_type": "execute_result",
     "data": {
      "text/plain": [
       "'https://pastebin.com/UjmjdEGX'"
      ]
     },
     "metadata": {},
     "execution_count": 17
    }
   ],
   "source": [
    "response.text"
   ]
  },
  {
   "cell_type": "code",
   "execution_count": 18,
   "metadata": {},
   "outputs": [],
   "source": [
    "paste_key = response.text.split(\"/\")[-1]"
   ]
  },
  {
   "cell_type": "code",
   "execution_count": 22,
   "metadata": {},
   "outputs": [],
   "source": [
    "get_url = \"https://pastebin.com/raw/\"+\"VA5f0Sge\""
   ]
  },
  {
   "cell_type": "code",
   "execution_count": 23,
   "metadata": {},
   "outputs": [],
   "source": [
    "response = requests.get(get_url)"
   ]
  },
  {
   "cell_type": "code",
   "execution_count": 24,
   "metadata": {},
   "outputs": [
    {
     "output_type": "execute_result",
     "data": {
      "text/plain": [
       "'@Override\\r\\n    public List<Medico> findAllByNomeProfissionalAndClinicaIdAndServico(String search, Long clinicaId, Long servicoId, String tipoServico) {\\r\\n\\r\\n        val sql = \"SELECT * FROM medicos AS m \" +\\r\\n                  \"WHERE UPPER(TRIM(TRANSLATE(m.nome_profissional, \"+ Normalize.TRANSLATE_IN+\",\" + Normalize.TRANSLATE_OU +\"))) LIKE UPPER(TRIM(CONCAT(\\'%\\',:search,\\'%\\'))) \" +\\r\\n                  \"AND EXISTS(SELECT 1 FROM medico_estabelecimentos WHERE estabelecimento_id = :clinicaId AND medico_id = m.id) \" +\\r\\n                  \"AND EXISTS(\" +\\r\\n                  \" SELECT 1 FROM medico_estabelecimento_exame_servicos AS s, json_to_record(s.servico_tipos) AS item(tipos json), json_array_elements(item.tipos) AS values  \" +\\r\\n                  \" WHERE s.estabelecimento_id = :clinicaId \" +\\r\\n                  \" AND s.servico_id = :servicoId \" +\\r\\n                  \" AND s.medico_id = m.id \" +\\r\\n                  (!StringUtils.isEmpty(tipoServico) ? \"AND values->>\\'value\\' LIKE :tipoServico\" : \"\") +\\r\\n                  \")\";\\r\\n\\r\\n        val query = entityManager.createNativeQuery(sql, Medico.class);\\r\\n\\r\\n        query.setParameter(\"search\", StringNormalizer.unaccented(search));\\r\\n        query.setParameter(\"clinicaId\", clinicaId);\\r\\n        query.setParameter(\"servicoId\", servicoId);\\r\\n\\r\\n        if (!StringUtils.isEmpty(tipoServico)) query.setParameter(\"tipoServico\", tipoServico);\\r\\n\\r\\n        return (List<Medico>) query.getResultList();\\r\\n    }'"
      ]
     },
     "metadata": {},
     "execution_count": 24
    }
   ],
   "source": [
    "response.text"
   ]
  },
  {
   "source": [
    "### Crawler"
   ],
   "cell_type": "markdown",
   "metadata": {}
  },
  {
   "cell_type": "code",
   "execution_count": 28,
   "metadata": {},
   "outputs": [],
   "source": [
    "from bs4 import BeautifulSoup\n",
    "from queue import Queue"
   ]
  },
  {
   "cell_type": "code",
   "execution_count": null,
   "metadata": {},
   "outputs": [],
   "source": []
  },
  {
   "cell_type": "code",
   "execution_count": 38,
   "metadata": {},
   "outputs": [],
   "source": [
    "def crawler(q):\n",
    "    print(\"Crawler Started\\n\\n\")\n",
    "    try:\n",
    "        while not q.empty():\n",
    "            url = q.get()\n",
    "            print(\"Visited:\", url)\n",
    "            response = requests.get(url)\n",
    "            soup = BeautifulSoup(response.text)\n",
    "\n",
    "            anchor_tags = soup.find_all(\"a\")\n",
    "            for a in anchor_tags:\n",
    "                if a.get(\"href\") is None:\n",
    "                    continue\n",
    "                else:\n",
    "                    if \"http\" in a.get(\"href\"):\n",
    "                        q.put(a.get(\"href\"))\n",
    "    except KeyboardInterrupt:\n",
    "        pass\n",
    "    print(\"Crawler Ended\\n\\n\")"
   ]
  },
  {
   "cell_type": "code",
   "execution_count": 39,
   "metadata": {},
   "outputs": [
    {
     "output_type": "stream",
     "name": "stdout",
     "text": [
      "Crawler Started\n",
      "\n",
      "\n",
      "Visited: https://www.google.com\n",
      "Visited: https://www.google.co.in/imghp?hl=en&tab=wi\n",
      "Visited: https://maps.google.co.in/maps?hl=en&tab=wl\n",
      "Visited: https://play.google.com/?hl=en&tab=w8\n",
      "Crawler Ended\n",
      "\n",
      "\n"
     ]
    }
   ],
   "source": [
    "q = Queue()\n",
    "q.put(\"https://www.google.com\")\n",
    "crawler(q)"
   ]
  },
  {
   "cell_type": "code",
   "execution_count": 40,
   "metadata": {},
   "outputs": [],
   "source": [
    "from selenium import webdriver"
   ]
  },
  {
   "cell_type": "code",
   "execution_count": 41,
   "metadata": {},
   "outputs": [
    {
     "output_type": "execute_result",
     "data": {
      "text/plain": [
       "['ActionChains',\n",
       " 'Android',\n",
       " 'BlackBerry',\n",
       " 'Chrome',\n",
       " 'ChromeOptions',\n",
       " 'DesiredCapabilities',\n",
       " 'Edge',\n",
       " 'Firefox',\n",
       " 'FirefoxOptions',\n",
       " 'FirefoxProfile',\n",
       " 'Ie',\n",
       " 'IeOptions',\n",
       " 'Opera',\n",
       " 'PhantomJS',\n",
       " 'Proxy',\n",
       " 'Remote',\n",
       " 'Safari',\n",
       " 'TouchActions',\n",
       " 'WebKitGTK',\n",
       " 'WebKitGTKOptions',\n",
       " '__builtins__',\n",
       " '__cached__',\n",
       " '__doc__',\n",
       " '__file__',\n",
       " '__loader__',\n",
       " '__name__',\n",
       " '__package__',\n",
       " '__path__',\n",
       " '__spec__',\n",
       " '__version__',\n",
       " 'android',\n",
       " 'blackberry',\n",
       " 'chrome',\n",
       " 'common',\n",
       " 'edge',\n",
       " 'firefox',\n",
       " 'ie',\n",
       " 'opera',\n",
       " 'phantomjs',\n",
       " 'remote',\n",
       " 'safari',\n",
       " 'support',\n",
       " 'webkitgtk']"
      ]
     },
     "metadata": {},
     "execution_count": 41
    }
   ],
   "source": [
    "dir(webdriver)"
   ]
  },
  {
   "cell_type": "code",
   "execution_count": 44,
   "metadata": {},
   "outputs": [
    {
     "output_type": "stream",
     "text": [
      "\u001b[1;31mInit signature:\u001b[0m\n",
      "\u001b[0mwebdriver\u001b[0m\u001b[1;33m.\u001b[0m\u001b[0mChrome\u001b[0m\u001b[1;33m(\u001b[0m\u001b[1;33m\n",
      "\u001b[0m    \u001b[0mexecutable_path\u001b[0m\u001b[1;33m=\u001b[0m\u001b[1;34m'chromedriver'\u001b[0m\u001b[1;33m,\u001b[0m\u001b[1;33m\n",
      "\u001b[0m    \u001b[0mport\u001b[0m\u001b[1;33m=\u001b[0m\u001b[1;36m0\u001b[0m\u001b[1;33m,\u001b[0m\u001b[1;33m\n",
      "\u001b[0m    \u001b[0moptions\u001b[0m\u001b[1;33m=\u001b[0m\u001b[1;32mNone\u001b[0m\u001b[1;33m,\u001b[0m\u001b[1;33m\n",
      "\u001b[0m    \u001b[0mservice_args\u001b[0m\u001b[1;33m=\u001b[0m\u001b[1;32mNone\u001b[0m\u001b[1;33m,\u001b[0m\u001b[1;33m\n",
      "\u001b[0m    \u001b[0mdesired_capabilities\u001b[0m\u001b[1;33m=\u001b[0m\u001b[1;32mNone\u001b[0m\u001b[1;33m,\u001b[0m\u001b[1;33m\n",
      "\u001b[0m    \u001b[0mservice_log_path\u001b[0m\u001b[1;33m=\u001b[0m\u001b[1;32mNone\u001b[0m\u001b[1;33m,\u001b[0m\u001b[1;33m\n",
      "\u001b[0m    \u001b[0mchrome_options\u001b[0m\u001b[1;33m=\u001b[0m\u001b[1;32mNone\u001b[0m\u001b[1;33m,\u001b[0m\u001b[1;33m\n",
      "\u001b[0m    \u001b[0mkeep_alive\u001b[0m\u001b[1;33m=\u001b[0m\u001b[1;32mTrue\u001b[0m\u001b[1;33m,\u001b[0m\u001b[1;33m\n",
      "\u001b[0m\u001b[1;33m)\u001b[0m\u001b[1;33m\u001b[0m\u001b[1;33m\u001b[0m\u001b[0m\n",
      "\u001b[1;31mDocstring:\u001b[0m     \n",
      "Controls the ChromeDriver and allows you to drive the browser.\n",
      "\n",
      "You will need to download the ChromeDriver executable from\n",
      "http://chromedriver.storage.googleapis.com/index.html\n",
      "\u001b[1;31mInit docstring:\u001b[0m\n",
      "Creates a new instance of the chrome driver.\n",
      "\n",
      "Starts the service and then creates new instance of chrome driver.\n",
      "\n",
      ":Args:\n",
      " - executable_path - path to the executable. If the default is used it assumes the executable is in the $PATH\n",
      " - port - port you would like the service to run, if left as 0, a free port will be found.\n",
      " - options - this takes an instance of ChromeOptions\n",
      " - service_args - List of args to pass to the driver service\n",
      " - desired_capabilities - Dictionary object with non-browser specific\n",
      "   capabilities only, such as \"proxy\" or \"loggingPref\".\n",
      " - service_log_path - Where to log information from the driver.\n",
      " - chrome_options - Deprecated argument for options\n",
      " - keep_alive - Whether to configure ChromeRemoteConnection to use HTTP keep-alive.\n",
      "\u001b[1;31mFile:\u001b[0m           c:\\users\\manu\\appdata\\local\\programs\\python\\python36\\lib\\site-packages\\selenium\\webdriver\\chrome\\webdriver.py\n",
      "\u001b[1;31mType:\u001b[0m           type\n",
      "\u001b[1;31mSubclasses:\u001b[0m     OperaDriver\n"
     ],
     "name": "stdout"
    }
   ],
   "source": [
    "webdriver.Chrome?"
   ]
  },
  {
   "cell_type": "code",
   "execution_count": 48,
   "metadata": {},
   "outputs": [
    {
     "output_type": "error",
     "ename": "AssertionError",
     "evalue": "",
     "traceback": [
      "\u001b[1;31m---------------------------------------------------------------------------\u001b[0m",
      "\u001b[1;31mAssertionError\u001b[0m                            Traceback (most recent call last)",
      "\u001b[1;32m<ipython-input-48-06166fd11418>\u001b[0m in \u001b[0;36m<module>\u001b[1;34m\u001b[0m\n\u001b[0;32m      2\u001b[0m     \u001b[1;32mpass\u001b[0m\u001b[1;33m\u001b[0m\u001b[1;33m\u001b[0m\u001b[0m\n\u001b[0;32m      3\u001b[0m \u001b[1;32melse\u001b[0m\u001b[1;33m:\u001b[0m\u001b[1;33m\u001b[0m\u001b[1;33m\u001b[0m\u001b[0m\n\u001b[1;32m----> 4\u001b[1;33m     \u001b[1;32mraise\u001b[0m \u001b[0mAssertionError\u001b[0m\u001b[1;33m\u001b[0m\u001b[1;33m\u001b[0m\u001b[0m\n\u001b[0m",
      "\u001b[1;31mAssertionError\u001b[0m: "
     ]
    }
   ],
   "source": [
    "if 1 == 2:\n",
    "    pass\n",
    "else:\n",
    "    raise AssertionError"
   ]
  },
  {
   "cell_type": "code",
   "execution_count": 47,
   "metadata": {},
   "outputs": [
    {
     "output_type": "error",
     "ename": "AssertionError",
     "evalue": "",
     "traceback": [
      "\u001b[1;31m---------------------------------------------------------------------------\u001b[0m",
      "\u001b[1;31mAssertionError\u001b[0m                            Traceback (most recent call last)",
      "\u001b[1;32m<ipython-input-47-ce781a32d075>\u001b[0m in \u001b[0;36m<module>\u001b[1;34m\u001b[0m\n\u001b[1;32m----> 1\u001b[1;33m \u001b[1;32massert\u001b[0m \u001b[1;36m1\u001b[0m \u001b[1;33m==\u001b[0m \u001b[1;36m2\u001b[0m\u001b[1;33m\u001b[0m\u001b[1;33m\u001b[0m\u001b[0m\n\u001b[0m",
      "\u001b[1;31mAssertionError\u001b[0m: "
     ]
    }
   ],
   "source": [
    "assert 1 == 2"
   ]
  },
  {
   "cell_type": "code",
   "execution_count": null,
   "metadata": {},
   "outputs": [],
   "source": []
  }
 ]
}