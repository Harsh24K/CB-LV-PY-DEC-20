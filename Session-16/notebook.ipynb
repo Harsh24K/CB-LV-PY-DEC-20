{
 "metadata": {
  "language_info": {
   "codemirror_mode": {
    "name": "ipython",
    "version": 3
   },
   "file_extension": ".py",
   "mimetype": "text/x-python",
   "name": "python",
   "nbconvert_exporter": "python",
   "pygments_lexer": "ipython3",
   "version": "3.6.8-final"
  },
  "orig_nbformat": 2,
  "kernelspec": {
   "name": "python3",
   "display_name": "Python 3.6.8 64-bit",
   "metadata": {
    "interpreter": {
     "hash": "952603312201d9d1df6f1b6eb4a2044a9cb2cee3bbe4f29af3f4f86c434f8702"
    }
   }
  }
 },
 "nbformat": 4,
 "nbformat_minor": 2,
 "cells": [
  {
   "cell_type": "code",
   "execution_count": 22,
   "metadata": {},
   "outputs": [],
   "source": [
    "def greet(name):\n",
    "    print(\"Hey \" + name)"
   ]
  },
  {
   "cell_type": "code",
   "execution_count": 5,
   "metadata": {},
   "outputs": [],
   "source": [
    "def auth(user, password):\n",
    "    def greet(name):\n",
    "        print(\"Hey \" + name)\n",
    "        return True\n",
    "    \n",
    "    if user == \"manu\" and password == \"12345\":\n",
    "        return greet(user)\n",
    "    else:\n",
    "        print(\"Not authorized\")\n",
    "        return False"
   ]
  },
  {
   "cell_type": "code",
   "execution_count": 7,
   "metadata": {},
   "outputs": [
    {
     "output_type": "stream",
     "name": "stdout",
     "text": [
      "Not authorized\n"
     ]
    },
    {
     "output_type": "execute_result",
     "data": {
      "text/plain": [
       "False"
      ]
     },
     "metadata": {},
     "execution_count": 7
    }
   ],
   "source": [
    "auth(\"manu\", \"1234\")"
   ]
  },
  {
   "cell_type": "code",
   "execution_count": 8,
   "metadata": {},
   "outputs": [],
   "source": [
    "def auth(user, password, greet):\n",
    "    if user == \"manu\" and password == \"12345\":\n",
    "        return greet\n",
    "    else:\n",
    "        raise ValueError"
   ]
  },
  {
   "cell_type": "code",
   "execution_count": 12,
   "metadata": {},
   "outputs": [
    {
     "output_type": "error",
     "ename": "ValueError",
     "evalue": "",
     "traceback": [
      "\u001b[1;31m---------------------------------------------------------------------------\u001b[0m",
      "\u001b[1;31mValueError\u001b[0m                                Traceback (most recent call last)",
      "\u001b[1;32m<ipython-input-12-f3d4d94edf7c>\u001b[0m in \u001b[0;36m<module>\u001b[1;34m\u001b[0m\n\u001b[1;32m----> 1\u001b[1;33m \u001b[0mgreet\u001b[0m \u001b[1;33m=\u001b[0m \u001b[0mauth\u001b[0m\u001b[1;33m(\u001b[0m\u001b[1;34m\"manu\"\u001b[0m\u001b[1;33m,\u001b[0m \u001b[1;34m\"123423\"\u001b[0m\u001b[1;33m,\u001b[0m \u001b[0mgreet\u001b[0m\u001b[1;33m)\u001b[0m\u001b[1;33m\u001b[0m\u001b[1;33m\u001b[0m\u001b[0m\n\u001b[0m",
      "\u001b[1;32m<ipython-input-8-c9d828a12240>\u001b[0m in \u001b[0;36mauth\u001b[1;34m(user, password, greet)\u001b[0m\n\u001b[0;32m      3\u001b[0m         \u001b[1;32mreturn\u001b[0m \u001b[0mgreet\u001b[0m\u001b[1;33m\u001b[0m\u001b[1;33m\u001b[0m\u001b[0m\n\u001b[0;32m      4\u001b[0m     \u001b[1;32melse\u001b[0m\u001b[1;33m:\u001b[0m\u001b[1;33m\u001b[0m\u001b[1;33m\u001b[0m\u001b[0m\n\u001b[1;32m----> 5\u001b[1;33m         \u001b[1;32mraise\u001b[0m \u001b[0mValueError\u001b[0m\u001b[1;33m\u001b[0m\u001b[1;33m\u001b[0m\u001b[0m\n\u001b[0m",
      "\u001b[1;31mValueError\u001b[0m: "
     ]
    }
   ],
   "source": [
    "greet = auth(\"manu\", \"123423\", greet)"
   ]
  },
  {
   "cell_type": "code",
   "execution_count": 11,
   "metadata": {},
   "outputs": [
    {
     "output_type": "stream",
     "name": "stdout",
     "text": [
      "Hey rahul\n"
     ]
    }
   ],
   "source": [
    "greet(\"rahul\")"
   ]
  },
  {
   "cell_type": "code",
   "execution_count": 27,
   "metadata": {},
   "outputs": [],
   "source": [
    "def auth(function):\n",
    "    def new_function(username, password):\n",
    "        if username == \"manu\" and password == \"12345\":\n",
    "            return function\n",
    "        else:\n",
    "            return None\n",
    "    return new_function"
   ]
  },
  {
   "cell_type": "code",
   "execution_count": 43,
   "metadata": {},
   "outputs": [],
   "source": [
    "@auth\n",
    "def print_range(n):\n",
    "\n",
    "    print(*[i for i in range(n)])\n",
    "    \n",
    "# print_range = auth(print_range)"
   ]
  },
  {
   "cell_type": "code",
   "execution_count": 42,
   "metadata": {},
   "outputs": [
    {
     "output_type": "stream",
     "name": "stdout",
     "text": [
      "0 1 2 3 4 5 6 7 8 9\n"
     ]
    }
   ],
   "source": [
    "print_range(\"manu\", \"12345\")(10)"
   ]
  },
  {
   "cell_type": "code",
   "execution_count": 28,
   "metadata": {},
   "outputs": [],
   "source": [
    "greet = auth(greet)"
   ]
  },
  {
   "cell_type": "code",
   "execution_count": 34,
   "metadata": {},
   "outputs": [
    {
     "output_type": "stream",
     "name": "stdout",
     "text": [
      "not authenticated\n"
     ]
    }
   ],
   "source": [
    "real_greet = greet(\"manu\", \"12315\")\n",
    "if real_greet is None:\n",
    "    print(\"not authenticated\")\n",
    "else:\n",
    "    real_greet(\"ramesh\")"
   ]
  },
  {
   "cell_type": "code",
   "execution_count": 32,
   "metadata": {},
   "outputs": [
    {
     "output_type": "error",
     "ename": "TypeError",
     "evalue": "new_function() missing 1 required positional argument: 'password'",
     "traceback": [
      "\u001b[1;31m---------------------------------------------------------------------------\u001b[0m",
      "\u001b[1;31mTypeError\u001b[0m                                 Traceback (most recent call last)",
      "\u001b[1;32m<ipython-input-32-6b4d1e9a1074>\u001b[0m in \u001b[0;36m<module>\u001b[1;34m\u001b[0m\n\u001b[1;32m----> 1\u001b[1;33m \u001b[0mgreet\u001b[0m\u001b[1;33m(\u001b[0m\u001b[1;34m\"rahul\"\u001b[0m\u001b[1;33m)\u001b[0m\u001b[1;33m\u001b[0m\u001b[1;33m\u001b[0m\u001b[0m\n\u001b[0m",
      "\u001b[1;31mTypeError\u001b[0m: new_function() missing 1 required positional argument: 'password'"
     ]
    }
   ],
   "source": [
    "greet()"
   ]
  },
  {
   "cell_type": "code",
   "execution_count": 48,
   "metadata": {},
   "outputs": [],
   "source": [
    "def decor(function):\n",
    "    def my_function(*args):\n",
    "        print(\"Function is calling...\")\n",
    "        return function(*args)\n",
    "    return my_function"
   ]
  },
  {
   "cell_type": "code",
   "execution_count": 49,
   "metadata": {},
   "outputs": [],
   "source": [
    "@decor # f = decor(f)\n",
    "def f(n):\n",
    "    print(\"Number i got:\", n)"
   ]
  },
  {
   "cell_type": "code",
   "execution_count": 51,
   "metadata": {},
   "outputs": [],
   "source": [
    "@decor\n",
    "def y(n):\n",
    "    print(\"Square of number:\", n**2)"
   ]
  },
  {
   "cell_type": "code",
   "execution_count": 50,
   "metadata": {},
   "outputs": [
    {
     "output_type": "stream",
     "name": "stdout",
     "text": [
      "Function is calling...\nNumber i got: 10\n"
     ]
    }
   ],
   "source": [
    "f(10)"
   ]
  },
  {
   "cell_type": "code",
   "execution_count": 52,
   "metadata": {},
   "outputs": [
    {
     "output_type": "stream",
     "name": "stdout",
     "text": [
      "Function is calling...\nSquare of number: 100\n"
     ]
    }
   ],
   "source": [
    "y(10)"
   ]
  },
  {
   "cell_type": "code",
   "execution_count": 53,
   "metadata": {},
   "outputs": [],
   "source": [
    "import requests"
   ]
  },
  {
   "cell_type": "code",
   "execution_count": 65,
   "metadata": {},
   "outputs": [],
   "source": [
    "response = requests.get(\"http://127.0.0.1:5000/\")"
   ]
  },
  {
   "cell_type": "code",
   "execution_count": 66,
   "metadata": {},
   "outputs": [
    {
     "output_type": "execute_result",
     "data": {
      "text/plain": [
       "{'Content-Type': 'application/json', 'Content-Length': '32', 'Server': 'Werkzeug/1.0.1 Python/3.6.8', 'Date': 'Wed, 06 Jan 2021 14:41:23 GMT'}"
      ]
     },
     "metadata": {},
     "execution_count": 66
    }
   ],
   "source": [
    "response.headers"
   ]
  },
  {
   "cell_type": "code",
   "execution_count": 70,
   "metadata": {},
   "outputs": [
    {
     "output_type": "execute_result",
     "data": {
      "text/plain": [
       "list"
      ]
     },
     "metadata": {},
     "execution_count": 70
    }
   ],
   "source": [
    "type(response.json())"
   ]
  },
  {
   "cell_type": "code",
   "execution_count": 62,
   "metadata": {},
   "outputs": [],
   "source": [
    "response = requests.get(\"http://127.0.0.1:5000/work\")"
   ]
  },
  {
   "cell_type": "code",
   "execution_count": 63,
   "metadata": {},
   "outputs": [
    {
     "output_type": "execute_result",
     "data": {
      "text/plain": [
       "{'Content-Type': 'text/html; charset=utf-8', 'Content-Length': '15', 'Server': 'Werkzeug/1.0.1 Python/3.6.8', 'Date': 'Wed, 06 Jan 2021 14:40:23 GMT'}"
      ]
     },
     "metadata": {},
     "execution_count": 63
    }
   ],
   "source": [
    "response.headers"
   ]
  },
  {
   "cell_type": "code",
   "execution_count": 71,
   "metadata": {},
   "outputs": [],
   "source": [
    "response = requests.get(\"http://127.0.0.1:5000/home\")"
   ]
  },
  {
   "cell_type": "code",
   "execution_count": 72,
   "metadata": {},
   "outputs": [
    {
     "output_type": "execute_result",
     "data": {
      "text/plain": [
       "{'Content-Type': 'application/json', 'Content-Length': '3', 'Server': 'Werkzeug/1.0.1 Python/3.6.8', 'Date': 'Wed, 06 Jan 2021 14:42:36 GMT'}"
      ]
     },
     "metadata": {},
     "execution_count": 72
    }
   ],
   "source": [
    "response.headers"
   ]
  },
  {
   "cell_type": "code",
   "execution_count": 74,
   "metadata": {},
   "outputs": [
    {
     "output_type": "execute_result",
     "data": {
      "text/plain": [
       "int"
      ]
     },
     "metadata": {},
     "execution_count": 74
    }
   ],
   "source": [
    "type(response.json())"
   ]
  },
  {
   "cell_type": "code",
   "execution_count": 76,
   "metadata": {},
   "outputs": [],
   "source": [
    "response = requests.get(\"http://127.0.0.1:5000\")"
   ]
  },
  {
   "cell_type": "code",
   "execution_count": 78,
   "metadata": {},
   "outputs": [
    {
     "output_type": "execute_result",
     "data": {
      "text/plain": [
       "{'Content-Length': '1585950', 'Content-Type': 'image/jpeg', 'Last-Modified': 'Wed, 06 Jan 2021 15:15:50 GMT', 'Cache-Control': 'public, max-age=43200', 'Expires': 'Thu, 07 Jan 2021 03:17:22 GMT', 'ETag': '\"1609946150.1709876-1585950-4237957517\"', 'Server': 'Werkzeug/1.0.1 Python/3.6.8', 'Date': 'Wed, 06 Jan 2021 15:17:22 GMT'}"
      ]
     },
     "metadata": {},
     "execution_count": 78
    }
   ],
   "source": [
    "response.headers"
   ]
  }
 ]
}